{
 "cells": [
  {
   "cell_type": "markdown",
   "metadata": {},
   "source": [
    "# 要闻集中显示器\n",
    "## [拂晓工作室](https://github.com/Errrneist/Alchemist)\n",
    "* 此程序可显示最新的要闻"
   ]
  },
  {
   "cell_type": "markdown",
   "metadata": {},
   "source": [
    "# 参考资料\n",
    "* [1] [Basics of SFrame](https://apple.github.io/turicreate/docs/api/generated/turicreate.SFrame.html#turicreate.SFrame)\n",
    "* [2] [Sort SFrame based on column](https://apple.github.io/turicreate/docs/api/generated/turicreate.SFrame.sort.html)"
   ]
  },
  {
   "cell_type": "markdown",
   "metadata": {},
   "source": [
    "# 导入库"
   ]
  },
  {
   "cell_type": "code",
   "execution_count": 24,
   "metadata": {},
   "outputs": [],
   "source": [
    "# 导入库\n",
    "import turicreate as tc"
   ]
  },
  {
   "cell_type": "markdown",
   "metadata": {},
   "source": [
    "# 导入数据\n",
    "* 这里需要手动修改数据路径"
   ]
  },
  {
   "cell_type": "code",
   "execution_count": 39,
   "metadata": {},
   "outputs": [
    {
     "data": {
      "text/html": [
       "<pre>Finished parsing file /Users/hongjunwu/Documents/GitHub/Alchemist/DataSets/Eastmoney/News/China/CHINA20180701-0848.csv</pre>"
      ],
      "text/plain": [
       "Finished parsing file /Users/hongjunwu/Documents/GitHub/Alchemist/DataSets/Eastmoney/News/China/CHINA20180701-0848.csv"
      ]
     },
     "metadata": {},
     "output_type": "display_data"
    },
    {
     "data": {
      "text/html": [
       "<pre>Parsing completed. Parsed 100 lines in 0.05212 secs.</pre>"
      ],
      "text/plain": [
       "Parsing completed. Parsed 100 lines in 0.05212 secs."
      ]
     },
     "metadata": {},
     "output_type": "display_data"
    },
    {
     "name": "stdout",
     "output_type": "stream",
     "text": [
      "------------------------------------------------------\n",
      "Inferred types from first 100 line(s) of file as \n",
      "column_type_hints=[str,int,int,int,list,str,int]\n",
      "If parsing fails due to incorrect types, you can correct\n",
      "the inferred type list above and pass it to read_csv in\n",
      "the column_type_hints argument\n",
      "------------------------------------------------------\n"
     ]
    },
    {
     "data": {
      "text/html": [
       "<pre>Finished parsing file /Users/hongjunwu/Documents/GitHub/Alchemist/DataSets/Eastmoney/News/China/CHINA20180701-0848.csv</pre>"
      ],
      "text/plain": [
       "Finished parsing file /Users/hongjunwu/Documents/GitHub/Alchemist/DataSets/Eastmoney/News/China/CHINA20180701-0848.csv"
      ]
     },
     "metadata": {},
     "output_type": "display_data"
    },
    {
     "data": {
      "text/html": [
       "<pre>Parsing completed. Parsed 515 lines in 0.042073 secs.</pre>"
      ],
      "text/plain": [
       "Parsing completed. Parsed 515 lines in 0.042073 secs."
      ]
     },
     "metadata": {},
     "output_type": "display_data"
    }
   ],
   "source": [
    "news = tc.SFrame('../DataSets/Eastmoney/News/China/CHINA20180701-0848.csv')"
   ]
  },
  {
   "cell_type": "markdown",
   "metadata": {},
   "source": [
    "# 排列数据"
   ]
  },
  {
   "cell_type": "code",
   "execution_count": 40,
   "metadata": {},
   "outputs": [
    {
     "data": {
      "text/html": [
       "<div style=\"max-height:1000px;max-width:1500px;overflow:auto;\"><table frame=\"box\" rules=\"cols\">\n",
       "    <tr>\n",
       "        <th style=\"padding-left: 1em; padding-right: 1em; text-align: center\">contents</th>\n",
       "        <th style=\"padding-left: 1em; padding-right: 1em; text-align: center\">date</th>\n",
       "        <th style=\"padding-left: 1em; padding-right: 1em; text-align: center\">day</th>\n",
       "        <th style=\"padding-left: 1em; padding-right: 1em; text-align: center\">month</th>\n",
       "        <th style=\"padding-left: 1em; padding-right: 1em; text-align: center\">related</th>\n",
       "    </tr>\n",
       "    <tr>\n",
       "        <td style=\"padding-left: 1em; padding-right: 1em; text-align: center; vertical-align: top\">为深入贯彻党的十九大精神，进一步深化收入分配制度改<br>革，强化收入分配政策激励导向，通过重点群体 ...</td>\n",
       "        <td style=\"padding-left: 1em; padding-right: 1em; text-align: center; vertical-align: top\">20180630</td>\n",
       "        <td style=\"padding-left: 1em; padding-right: 1em; text-align: center; vertical-align: top\">30</td>\n",
       "        <td style=\"padding-left: 1em; padding-right: 1em; text-align: center; vertical-align: top\">6</td>\n",
       "        <td style=\"padding-left: 1em; padding-right: 1em; text-align: center; vertical-align: top\">[职业教育, 农产品, 保险]</td>\n",
       "    </tr>\n",
       "    <tr>\n",
       "        <td style=\"padding-left: 1em; padding-right: 1em; text-align: center; vertical-align: top\">足球场上的大热必死，用经济学的语言说是冲高回落。虽<br>然经济学家们深谙风险对冲之道，但在看球时， ...</td>\n",
       "        <td style=\"padding-left: 1em; padding-right: 1em; text-align: center; vertical-align: top\">20180630</td>\n",
       "        <td style=\"padding-left: 1em; padding-right: 1em; text-align: center; vertical-align: top\">30</td>\n",
       "        <td style=\"padding-left: 1em; padding-right: 1em; text-align: center; vertical-align: top\">6</td>\n",
       "        <td style=\"padding-left: 1em; padding-right: 1em; text-align: center; vertical-align: top\">[高盛, 银行]</td>\n",
       "    </tr>\n",
       "    <tr>\n",
       "        <td style=\"padding-left: 1em; padding-right: 1em; text-align: center; vertical-align: top\">截至6月29日，今年已有北京、四川、广东、辽宁、新<br>疆、江西、西藏、广西、上海、云南和山东11 ...</td>\n",
       "        <td style=\"padding-left: 1em; padding-right: 1em; text-align: center; vertical-align: top\">20180630</td>\n",
       "        <td style=\"padding-left: 1em; padding-right: 1em; text-align: center; vertical-align: top\">30</td>\n",
       "        <td style=\"padding-left: 1em; padding-right: 1em; text-align: center; vertical-align: top\">6</td>\n",
       "        <td style=\"padding-left: 1em; padding-right: 1em; text-align: center; vertical-align: top\">[]</td>\n",
       "    </tr>\n",
       "    <tr>\n",
       "        <td style=\"padding-left: 1em; padding-right: 1em; text-align: center; vertical-align: top\">央行发布《关于支付机构客户备付金全部集中交存有关事<br>宜的通知》，自2018年7月9日起，按月逐 ...</td>\n",
       "        <td style=\"padding-left: 1em; padding-right: 1em; text-align: center; vertical-align: top\">20180630</td>\n",
       "        <td style=\"padding-left: 1em; padding-right: 1em; text-align: center; vertical-align: top\">30</td>\n",
       "        <td style=\"padding-left: 1em; padding-right: 1em; text-align: center; vertical-align: top\">6</td>\n",
       "        <td style=\"padding-left: 1em; padding-right: 1em; text-align: center; vertical-align: top\">[银行]</td>\n",
       "    </tr>\n",
       "    <tr>\n",
       "        <td style=\"padding-left: 1em; padding-right: 1em; text-align: center; vertical-align: top\">中国人民银行行长易纲29日表示，小微企业金融服务需<br>要全社会共同努力，切实把货币政策、差异化监 ...</td>\n",
       "        <td style=\"padding-left: 1em; padding-right: 1em; text-align: center; vertical-align: top\">20180630</td>\n",
       "        <td style=\"padding-left: 1em; padding-right: 1em; text-align: center; vertical-align: top\">30</td>\n",
       "        <td style=\"padding-left: 1em; padding-right: 1em; text-align: center; vertical-align: top\">6</td>\n",
       "        <td style=\"padding-left: 1em; padding-right: 1em; text-align: center; vertical-align: top\">[银行]</td>\n",
       "    </tr>\n",
       "    <tr>\n",
       "        <td style=\"padding-left: 1em; padding-right: 1em; text-align: center; vertical-align: top\">2018年6月30日国家统计局服务业调查中心和中国<br>物流与采购联合会发布了中国采购经理指数。对 ...</td>\n",
       "        <td style=\"padding-left: 1em; padding-right: 1em; text-align: center; vertical-align: top\">20180630</td>\n",
       "        <td style=\"padding-left: 1em; padding-right: 1em; text-align: center; vertical-align: top\">30</td>\n",
       "        <td style=\"padding-left: 1em; padding-right: 1em; text-align: center; vertical-align: top\">6</td>\n",
       "        <td style=\"padding-left: 1em; padding-right: 1em; text-align: center; vertical-align: top\">[银行]</td>\n",
       "    </tr>\n",
       "    <tr>\n",
       "        <td style=\"padding-left: 1em; padding-right: 1em; text-align: center; vertical-align: top\">6月30日，国家发展改革委、商务部以第19号令，发<br>布了《自由贸易试验区外商投资准入特别管理措 ...</td>\n",
       "        <td style=\"padding-left: 1em; padding-right: 1em; text-align: center; vertical-align: top\">20180630</td>\n",
       "        <td style=\"padding-left: 1em; padding-right: 1em; text-align: center; vertical-align: top\">30</td>\n",
       "        <td style=\"padding-left: 1em; padding-right: 1em; text-align: center; vertical-align: top\">6</td>\n",
       "        <td style=\"padding-left: 1em; padding-right: 1em; text-align: center; vertical-align: top\">[]</td>\n",
       "    </tr>\n",
       "    <tr>\n",
       "        <td style=\"padding-left: 1em; padding-right: 1em; text-align: center; vertical-align: top\">6月29日，中国人民银行办公厅发布关于支付机构客户<br>备付金全部集中交存有关事宜的通知。通知明确 ...</td>\n",
       "        <td style=\"padding-left: 1em; padding-right: 1em; text-align: center; vertical-align: top\">20180630</td>\n",
       "        <td style=\"padding-left: 1em; padding-right: 1em; text-align: center; vertical-align: top\">30</td>\n",
       "        <td style=\"padding-left: 1em; padding-right: 1em; text-align: center; vertical-align: top\">6</td>\n",
       "        <td style=\"padding-left: 1em; padding-right: 1em; text-align: center; vertical-align: top\">[银行]</td>\n",
       "    </tr>\n",
       "    <tr>\n",
       "        <td style=\"padding-left: 1em; padding-right: 1em; text-align: center; vertical-align: top\">中国官道普洱投资有限公司29日在法国巴黎泛欧证券交<br>易所(简称“泛欧交易所”)挂牌上市，成为第 ...</td>\n",
       "        <td style=\"padding-left: 1em; padding-right: 1em; text-align: center; vertical-align: top\">20180630</td>\n",
       "        <td style=\"padding-left: 1em; padding-right: 1em; text-align: center; vertical-align: top\">30</td>\n",
       "        <td style=\"padding-left: 1em; padding-right: 1em; text-align: center; vertical-align: top\">6</td>\n",
       "        <td style=\"padding-left: 1em; padding-right: 1em; text-align: center; vertical-align: top\">[]</td>\n",
       "    </tr>\n",
       "    <tr>\n",
       "        <td style=\"padding-left: 1em; padding-right: 1em; text-align: center; vertical-align: top\">全球每生产7部手机就有1部郑州造、民权县冷藏汽车产<br>量占全国60%以上、太康县成全国最集中的双 ...</td>\n",
       "        <td style=\"padding-left: 1em; padding-right: 1em; text-align: center; vertical-align: top\">20180630</td>\n",
       "        <td style=\"padding-left: 1em; padding-right: 1em; text-align: center; vertical-align: top\">30</td>\n",
       "        <td style=\"padding-left: 1em; padding-right: 1em; text-align: center; vertical-align: top\">6</td>\n",
       "        <td style=\"padding-left: 1em; padding-right: 1em; text-align: center; vertical-align: top\">[]</td>\n",
       "    </tr>\n",
       "</table>\n",
       "<table frame=\"box\" rules=\"cols\">\n",
       "    <tr>\n",
       "        <th style=\"padding-left: 1em; padding-right: 1em; text-align: center\">title</th>\n",
       "        <th style=\"padding-left: 1em; padding-right: 1em; text-align: center\">year</th>\n",
       "    </tr>\n",
       "    <tr>\n",
       "        <td style=\"padding-left: 1em; padding-right: 1em; text-align: center; vertical-align: top\">山西：激发“人才”活力  带动“城乡居民”增收</td>\n",
       "        <td style=\"padding-left: 1em; padding-right: 1em; text-align: center; vertical-align: top\">2018</td>\n",
       "    </tr>\n",
       "    <tr>\n",
       "        <td style=\"padding-left: 1em; padding-right: 1em; text-align: center; vertical-align: top\">投行眼里的世界杯</td>\n",
       "        <td style=\"padding-left: 1em; padding-right: 1em; text-align: center; vertical-align: top\">2018</td>\n",
       "    </tr>\n",
       "    <tr>\n",
       "        <td style=\"padding-left: 1em; padding-right: 1em; text-align: center; vertical-align: top\">11省市上调最低工资标准 这8城已突破2000元</td>\n",
       "        <td style=\"padding-left: 1em; padding-right: 1em; text-align: center; vertical-align: top\">2018</td>\n",
       "    </tr>\n",
       "    <tr>\n",
       "        <td style=\"padding-left: 1em; padding-right: 1em; text-align: center; vertical-align: top\">央行：到2019年1月14日实现支付机构客户备付金<br>100%集中交存 ...</td>\n",
       "        <td style=\"padding-left: 1em; padding-right: 1em; text-align: center; vertical-align: top\">2018</td>\n",
       "    </tr>\n",
       "    <tr>\n",
       "        <td style=\"padding-left: 1em; padding-right: 1em; text-align: center; vertical-align: top\">央行行长：小微企业金融服务需要全社会共同努力</td>\n",
       "        <td style=\"padding-left: 1em; padding-right: 1em; text-align: center; vertical-align: top\">2018</td>\n",
       "    </tr>\n",
       "    <tr>\n",
       "        <td style=\"padding-left: 1em; padding-right: 1em; text-align: center; vertical-align: top\">统计局解读：非制造业商务活动指数持续上升</td>\n",
       "        <td style=\"padding-left: 1em; padding-right: 1em; text-align: center; vertical-align: top\">2018</td>\n",
       "    </tr>\n",
       "    <tr>\n",
       "        <td style=\"padding-left: 1em; padding-right: 1em; text-align: center; vertical-align: top\">2018年版自贸试验区外资准入负面清单出炉！</td>\n",
       "        <td style=\"padding-left: 1em; padding-right: 1em; text-align: center; vertical-align: top\">2018</td>\n",
       "    </tr>\n",
       "    <tr>\n",
       "        <td style=\"padding-left: 1em; padding-right: 1em; text-align: center; vertical-align: top\">央行：将按月提高支付机构客户备付金集中交存比例</td>\n",
       "        <td style=\"padding-left: 1em; padding-right: 1em; text-align: center; vertical-align: top\">2018</td>\n",
       "    </tr>\n",
       "    <tr>\n",
       "        <td style=\"padding-left: 1em; padding-right: 1em; text-align: center; vertical-align: top\">首家中国茶企登陆泛欧证券交易所</td>\n",
       "        <td style=\"padding-left: 1em; padding-right: 1em; text-align: center; vertical-align: top\">2018</td>\n",
       "    </tr>\n",
       "    <tr>\n",
       "        <td style=\"padding-left: 1em; padding-right: 1em; text-align: center; vertical-align: top\">抓住产业转移历史机遇 构建中原崛起工业筋骨——河南<br>承接产业转移蓄积发展新动能 ...</td>\n",
       "        <td style=\"padding-left: 1em; padding-right: 1em; text-align: center; vertical-align: top\">2018</td>\n",
       "    </tr>\n",
       "</table>\n",
       "[515 rows x 7 columns]<br/>Note: Only the head of the SFrame is printed.<br/>You can use print_rows(num_rows=m, num_columns=n) to print more rows and columns.\n",
       "</div>"
      ],
      "text/plain": [
       "Columns:\n",
       "\tcontents\tstr\n",
       "\tdate\tint\n",
       "\tday\tint\n",
       "\tmonth\tint\n",
       "\trelated\tlist\n",
       "\ttitle\tstr\n",
       "\tyear\tint\n",
       "\n",
       "Rows: 515\n",
       "\n",
       "Data:\n",
       "+---------------------------------------------------------+----------+-----+-------+\n",
       "|                         contents                        |   date   | day | month |\n",
       "+---------------------------------------------------------+----------+-----+-------+\n",
       "| 为深入贯彻党的十九大精神，进一步深化收入分配制度改革... | 20180630 |  30 |   6   |\n",
       "| 足球场上的大热必死，用经济学的语言说是冲高回落。虽然... | 20180630 |  30 |   6   |\n",
       "|   截至6月29日，今年已有北京、四川、广东、辽宁、新疆...  | 20180630 |  30 |   6   |\n",
       "| 央行发布《关于支付机构客户备付金全部集中交存有关事宜... | 20180630 |  30 |   6   |\n",
       "|  中国人民银行行长易纲29日表示，小微企业金融服务需要...  | 20180630 |  30 |   6   |\n",
       "|     2018年6月30日国家统计局服务业调查中心和中国物...    | 20180630 |  30 |   6   |\n",
       "|    6月30日，国家发展改革委、商务部以第19号令，发布...   | 20180630 |  30 |   6   |\n",
       "|   6月29日，中国人民银行办公厅发布关于支付机构客户备...  | 20180630 |  30 |   6   |\n",
       "|  中国官道普洱投资有限公司29日在法国巴黎泛欧证券交易...  | 20180630 |  30 |   6   |\n",
       "|  全球每生产7部手机就有1部郑州造、民权县冷藏汽车产量...  | 20180630 |  30 |   6   |\n",
       "+---------------------------------------------------------+----------+-----+-------+\n",
       "+--------------------------+------------------------------------------------------+\n",
       "|         related          |                        title                         |\n",
       "+--------------------------+------------------------------------------------------+\n",
       "| [职业教育, 农产品, 保险] |       山西：激发“人才”活力  带动“城乡居民”增收       |\n",
       "|       [高盛, 银行]       |                   投行眼里的世界杯                   |\n",
       "|            []            |       11省市上调最低工资标准 这8城已突破2000元       |\n",
       "|          [银行]          |   央行：到2019年1月14日实现支付机构客户备付金1...    |\n",
       "|          [银行]          |     央行行长：小微企业金融服务需要全社会共同努力     |\n",
       "|          [银行]          |       统计局解读：非制造业商务活动指数持续上升       |\n",
       "|            []            |       2018年版自贸试验区外资准入负面清单出炉！       |\n",
       "|          [银行]          |    央行：将按月提高支付机构客户备付金集中交存比例    |\n",
       "|            []            |            首家中国茶企登陆泛欧证券交易所            |\n",
       "|            []            | 抓住产业转移历史机遇 构建中原崛起工业筋骨——河南承... |\n",
       "+--------------------------+------------------------------------------------------+\n",
       "+------+\n",
       "| year |\n",
       "+------+\n",
       "| 2018 |\n",
       "| 2018 |\n",
       "| 2018 |\n",
       "| 2018 |\n",
       "| 2018 |\n",
       "| 2018 |\n",
       "| 2018 |\n",
       "| 2018 |\n",
       "| 2018 |\n",
       "| 2018 |\n",
       "+------+\n",
       "[515 rows x 7 columns]\n",
       "Note: Only the head of the SFrame is printed.\n",
       "You can use print_rows(num_rows=m, num_columns=n) to print more rows and columns."
      ]
     },
     "execution_count": 40,
     "metadata": {},
     "output_type": "execute_result"
    }
   ],
   "source": [
    "news.sort('date', ascending = False)"
   ]
  },
  {
   "cell_type": "markdown",
   "metadata": {},
   "source": [
    "# 决定要显示的新闻数量"
   ]
  },
  {
   "cell_type": "code",
   "execution_count": 41,
   "metadata": {},
   "outputs": [],
   "source": [
    "num_news = 10  # 默认是5"
   ]
  },
  {
   "cell_type": "markdown",
   "metadata": {},
   "source": [
    "# 显示最新新闻"
   ]
  },
  {
   "cell_type": "code",
   "execution_count": 42,
   "metadata": {
    "scrolled": false
   },
   "outputs": [
    {
     "name": "stdout",
     "output_type": "stream",
     "text": [
      "--------------------------------------------------------第1条新闻----------------------------------------------------\n",
      "标题：江西南昌放开非户籍人口落户 领取居住证满半年即可申请 | 时间：2018年6月27日\n",
      "-------------------------------------------------------正文----------------------------------------------------------\n",
      "据中国江西网报道，6月27日，南昌市公安局红谷滩分局透露，为进一步深化南昌市户籍制度改革工作，充分发挥户口政策引领作用，做大南昌市人口总量，推动非户籍人口在南昌市城镇地域落户，推行五条落户措施。其中，居住人员落户。在南昌市领取居住证满半年或者缴纳社保满一年即可申请落户。购房人员落户。在南昌市购房人员凭已备案的购房合同即可申请落户。五条措施自2018年7月1日起正式实施。\n",
      "------------------------------------------------------相关主题--------------------------------------------------------\n",
      "[]\n",
      "----------------------------------------------------------1---------------------------------------------------------\n",
      "\n",
      "\n",
      "\n",
      "\n",
      "--------------------------------------------------------第2条新闻----------------------------------------------------\n",
      "标题：投行眼里的世界杯 | 时间：2018年6月30日\n",
      "-------------------------------------------------------正文----------------------------------------------------------\n",
      "足球场上的大热必死，用经济学的语言说是冲高回落。虽然经济学家们深谙风险对冲之道，但在看球时，仍有不少投行认为一贯表现稳健的德国是本季世界杯最有希望夺冠的两志队伍之一。结果世界杯小组赛刚结束，看好德国的预期已经落空。四年一次的足球世界杯是一场全民狂欢的盛宴。全球有数亿双眼睛盯着每一场比赛的结果，进球直接牵动着民族主义的情绪宣泄。每位球迷都期待有个神奇的水晶球能提前预知比赛的结果。然而这届世界杯冷门叠出，甚至出现了“结果反着买，别墅靠着海”这样的段子。在赛程已经过半的时候，反过来看看赛前那些预言帝的“战绩”，能看出他们是走上神坛还是被狠狠打脸。高盛、瑞银、日本野村证券、德国商业银行以及丹麦银行等大型金融机构纷纷杀入世界杯预测领域，先后公布了关于赛事的特别研报。这些报告使用变量组合和模拟试验来预测冠军，有的还考虑诸如人均国内生产总值等因素，历数参赛各国的经济基本面，并将其延伸至竞技层面，对赛事做出分析。在经济学家的眼中，俄罗斯成为世界焦点不仅是因为世界杯，也与欧美对其不断升级的金融制裁有关，而世界杯带来的经济效应，则有利于俄罗斯在一定程度上摆脱困境。“足球需要激情，但投资则要仰仗冷静的头脑。”瑞银如是说。不过事实上球员也同样需要冷静，比如罚点球的时候。而有些国家的央行同样和点球手一样精确，总能命中政策目标，精确控制通胀率。欧洲央行和瑞典央行在这个指标上名列前茅。而墨西哥央行则表现不佳。至于射失点球的阿根廷队，5月份曾在8天内3次加息，将指标利率一举拉高40%。经济学家用的足球分析工具似乎很高大上，但至于结果却与章鱼保罗相比相去甚远，只能达到“呵呵”的水平。无论是高盛推出的《2018世界杯和经济》，还是瑞银的《投资与足球：2018俄罗斯世界杯特别版》，从现在看都犯了不少经验主义的错误。比如在小组赛中，瑞银认为西班牙对葡萄牙那场比赛，前者的胜率高达68%，结果却以3:3的平局收场。至于阿根廷对克罗地亚的比赛预测就更离谱，其认为阿根廷的胜率高达74%，结果是以0:3的比分大败。当小组赛结果揭晓时，投行确实遭遇打脸。在十六强的预测中高盛给出的预测是法国对阵克罗地亚、乌拉圭对阵西班牙、巴西对阵墨西哥、比利时对阵波兰、葡萄牙对阵沙特、阿根廷对阵丹麦、德国对阵瑞士以及哥伦比亚对阵英格兰，而比较现实中的淘汰赛捉对厮杀的形势，这一预测简直谬以千里。不但波兰和沙特早就被淘汰，夺冠热门德国也打道回府，上下半区的对阵形势更是一塌糊涂。如果说高盛比瑞银的预测要高明多少的话，就是经验更丰富的前者在研究报告的封面上就用大字写明“投资者在做出投资决定时，只将本报告作为一项考量因素。”高盛之所以这次这么谨慎，是因为四年前已经被打过一次脸，当时其预测巴西的夺冠概率高达48.5%，结果巴西连决赛圈都没进。其实，不止是看错出线形势，在评估球员方面投行的经济学家也会走眼。在高盛给出的今年世界杯最佳阵容预测中，守门员是西班牙的德赫亚，然而这位球员自第一场就表演了灾难性“黄油手”，锋线上则让阿根廷的梅西入选，可他不但前两场比赛颗粒未收，还在对阵冰岛的时候射丢关键性的点球。当然，虽然投行的经济学家们在赛事预测方面的表现并不让人信服，但总结的一些规律还有几分道理。比如那些不断取得胜利的球队身上，投资者也能获得一些借鉴。或者说无论哪支队伍在7月中旬最终捧得大力神杯，投资者都能在其身上看到值得学习的东西。首先冠军队伍灵活机动。不管是摆出“352”还是“442”阵型，都能根据对手的情况和场上的形式，迅速做出调整。此外遇到伤病、红牌、或者早丢球等情况，也能积极地作出应对。与此类似，投资者总要面对多变的市场环境，除交易对手外，宏观货币政策和监管环境也都在变化中，系统性风险始终存在，经济危机等“黑天鹅”事件也会发生。面对种种不确定性的考验，只有灵活机动的投资者才能获得丰厚的收益。其次是强队都攻守平衡。在包括守门员、后卫、中场以及前锋的每个环节上，都不能有短板，在板凳席上也要有队员能在关键时刻站出来发挥重要作用。有的队伍虽然能依靠明星球员灵光一现而赢得一场比赛，但在漫长的杯赛一路下来，只有最平衡的队伍才能获得最终胜利。投资也是如此，稳定的收益没有一锤子买卖，要在资产多样化的基础上均衡配置，这样才能实现利润最大化。冷静也是强队的特质。哪怕在90分钟还落后一球的危急时刻下，或者面对点球决胜的绝大压力，强队都会克服紧张情绪，冷静地做出最后一击。投资同样需要冷静判断，哪怕是在贸易摩擦风险增加、地缘局势紧张，或者下行压力变大的情况下，也要冷静分析，不沮丧不气馁，找出潜在的机会。经济学家认为通常情况下劳动生产率越高的国家，球员在球场上的表现也会越好，但尴尬的是，高盛一贯看好的巴西却是个例外。桑巴军团球踢得赏心悦目，但生产率和其他夺冠竞争对手相比却被甩出一截。不过尽管如此，高盛依旧看好巴西，而瑞银眼中的冠军则是德国。由于德国队的羸弱表现，瑞银已经在赛程刚过半的时候已宣告预测失败，当然它和高盛双输的可能性或许会更大——经济学家终究是足球的门外汉。\n",
      "------------------------------------------------------相关主题--------------------------------------------------------\n",
      "['高盛', '银行']\n",
      "----------------------------------------------------------2---------------------------------------------------------\n",
      "\n",
      "\n",
      "\n",
      "\n",
      "--------------------------------------------------------第3条新闻----------------------------------------------------\n",
      "标题：央行：把握好结构性去杠杆的力度和节奏 | 时间：2018年6月28日\n",
      "-------------------------------------------------------正文----------------------------------------------------------\n",
      "据中国人民银行网站消息，中国人民银行货币政策委员会2018年第二季度例会于6月27日在北京召开。会议强调，继续运用多种货币政策工具，把握好结构性去杠杆的力度和节奏，促进经济平稳健康发展，稳定市场预期，打好防范化解金融风险攻坚战，守住不发生系统性金融风险的底线。会议分析了国内外经济金融形势。会议认为，当前我国经济基本面良好，经济增长保持韧性，总供求总体平衡，增长动力加快转换。内需对经济的拉动不断上升，外贸依存度显著下降，应对外部冲击的能力增强。稳健中性的货币政策取得了较好成效，结构性去杠杆稳步推进，金融风险防控成效初显，金融对实体经济的支持力度较为稳固。国内经济金融领域的结构调整出现积极变化，但仍存在一些深层次问题和突出矛盾，国际经济金融形势更加错综复杂，面临一些严峻挑战和不确定性。会议指出，要继续密切关注国际国内经济金融走势，加强形势预判和前瞻性预调微调。稳健的货币政策保持中性，要松紧适度，管好货币供给总闸门，保持流动性合理充裕，引导货币信贷及社会融资规模合理增长。继续深化金融体制改革，健全货币政策和宏观审慎政策双支柱调控框架，疏通货币政策传导渠道。按照深化供给侧结构性改革的要求，优化融资结构和信贷结构，提升金融服务实体经济能力。主动有序扩大金融对外开放，增强金融业发展活力和韧性。会议强调，要继续按照党中央、国务院的决策部署，坚持稳中求进工作总基调，综合运用多种货币政策工具，把握好结构性去杠杆的力度和节奏，促进经济平稳健康发展，稳定市场预期，打好防范化解金融风险攻坚战，守住不发生系统性金融风险的底线。\n",
      "------------------------------------------------------相关主题--------------------------------------------------------\n",
      "[]\n",
      "----------------------------------------------------------3---------------------------------------------------------\n",
      "\n",
      "\n",
      "\n",
      "\n",
      "--------------------------------------------------------第4条新闻----------------------------------------------------\n",
      "标题：“中小微企业日”  闪送却调皮了一下 | 时间：2018年6月27日\n",
      "-------------------------------------------------------正文----------------------------------------------------------\n",
      "北京6月27日讯今日，中国政府网官方微博发布博文“快快快看！这里有份国务院政策利好，用一个字来形容它的话，那就是——快！今天是”中小微企业日“，我们这就把它闪送给你。”闪送官方微博却调皮了一下，第一时间对该微博进行了转发并评论：“谢谢您对我们对认可。闪送作为同城1小时速递领域的领军企业，经过4年多的时间，”闪送“这个品牌名已经成为了快速递送模式的代名词。我们自豪但不骄傲，会不辱使命，继续努力。”大家都知道此“闪送”非彼“闪送”，但诚然闪送经过4年多的时间不仅在同城速递行业内树立了自己的领军地位，树立了自己的品牌，聚集了大量的用户口碑。并且将“闪送”一词逐步变成了快速递送相关服务的代名词，很多人用“闪送”表达闪电送达，现在很多传统快递公司也在纷纷效仿，推出各种“闪送”服务。在闪送品牌的努力下，将闪送这个名词变成了动词，这里不禁感叹，闪送的创始人当时选择这个名字的睿智。  同城1小时速递闪送成立于2014年，通过专人直送模式，将递送时间控制在同城平均60分钟。其高效、安全的服务迅速得到用户的青睐。在基本没有广告宣传的情况下，每年增长率仍超过300%。目前，闪送拥有超过44万名闪送员，业务覆盖全国210座城市，用户规模超过8500万。闪送服务范围包括文件、证件、鲜花、蛋糕等各种对时效高要求的物品。另外还有代买代送服务，可以帮用户解决一些自己暂时无法解决的问题。\n",
      "------------------------------------------------------相关主题--------------------------------------------------------\n",
      "['微博']\n",
      "----------------------------------------------------------4---------------------------------------------------------\n",
      "\n",
      "\n",
      "\n",
      "\n",
      "--------------------------------------------------------第5条新闻----------------------------------------------------\n",
      "标题：央行行长：小微企业金融服务需要全社会共同努力 | 时间：2018年6月30日\n",
      "-------------------------------------------------------正文----------------------------------------------------------\n",
      "中国人民银行行长易纲29日表示，小微企业金融服务需要全社会共同努力，切实把货币政策、差异化监管、财政税收、营商环境等政策措施落到实处。人民银行等五部门日前联合印发《关于进一步深化小微企业金融服务的意见》，提出了23条小微企业融资的支持措施。29日，人民银行会同银保监会、证监会、发展改革委、财政部等联合召开全国深化小微企业金融服务电视电话会议，部署落实相关工作。“要在政策合力上下功夫，几家一起抬，这是深化小微企业金融服务的支撑点。”易纲在会上表示，小微企业金融服务是一项系统性工程，需要全社会共同努力。一分部署，九分落实，各有关部门要准确把握深化小微企业金融服务的正确方向和重点任务，发挥政策合力，细化政策操作，切实把货币政策、差异化监管、财政税收、营商环境等政策措施落到实处，取得实效。央行数据显示，2017年末单户授信500万元以下的小微企业借款户数占到58%，但贷款余额占比不足7%。易纲要求，各金融机构要切实下沉服务重心，聚焦小微企业中的薄弱群体，改造信贷流程和信用评价模型，切实扩大对小微企业的信贷投放和覆盖面。易纲表示，打通深化小微企业金融服务的“最后一公里”，要在考核激励上下功夫，建立精准支持政策和小微企业贷款发放的正向激励和联结机制。从三季度开始，全国性银行业金融机构要在季后20日内，将小微企业金融服务的情况、成效、问题、下一步打算以及有关政策建议报人民银行和银保监会，各省区市辖内金融机构要将有关情况报当地人民银行分支机构和银保监会派出机构。数据显示，截至3月末，金融机构小微企业贷款不良率为2.75%，比大型企业高1.7个百分点。易纲提出，要有效防范风险，优化金融服务小微企业的体制机制和生态环境，依法依规查处小微企业和金融机构弄虚作假、骗贷骗补等违法违规行为，确保各项政策真正惠及小微企业。\n",
      "------------------------------------------------------相关主题--------------------------------------------------------\n",
      "['银行']\n",
      "----------------------------------------------------------5---------------------------------------------------------\n",
      "\n",
      "\n",
      "\n",
      "\n",
      "--------------------------------------------------------第6条新闻----------------------------------------------------\n",
      "标题：统计局解读：非制造业商务活动指数持续上升 | 时间：2018年6月30日\n",
      "-------------------------------------------------------正文----------------------------------------------------------\n",
      "2018年6月30日国家统计局服务业调查中心和中国物流与采购联合会发布了中国采购经理指数。对此，国家统计局服务业调查中心高级统计师赵庆河进行了解读。6月份，非制造业商务活动指数为55.0%，环比上升0.1个百分点，高于上半年均值0.2个百分点，该指数连续四个月稳步上升，表明今年以来非制造业总体上保持平稳向好发展势头。服务业保持较高景气水平。服务业商务活动指数为54.0%，与上月持平，高于上半年均值0.1个百分点，服务业继续保持较快增长态势。从行业看，铁路运输、航空运输、电信、银行等行业商务活动指数均位于60.0%以上的高位景气区间，实现快速增长。道路运输、证券、居民服务等行业的商务活动指数低于临界点，业务总量有所回落。从市场预期看，业务活动预期指数为60.3%，与上月持平。全部调查行业的业务活动预期指数均位于景气区间，表明服务业企业对未来市场发展预期普遍持积极乐观态度。建筑业扩张加快。今年以来建筑业保持快速增长，本月商务活动指数为60.7%，升至年内高点，且高于上半年均值0.7个百分点，其中房屋建筑业商务活动指数连续四个月上升，达到68.0%的较高水平。从价格看，在市场活跃度增强的驱动下，建筑业投入品价格指数和销售价格指数为61.7%和54.4%，分别比上月上升2.3和1.6个百分点，均为年内高点。\n",
      "------------------------------------------------------相关主题--------------------------------------------------------\n",
      "['银行']\n",
      "----------------------------------------------------------6---------------------------------------------------------\n",
      "\n",
      "\n",
      "\n",
      "\n",
      "--------------------------------------------------------第7条新闻----------------------------------------------------\n",
      "标题：2018年版自贸试验区外资准入负面清单出炉！ | 时间：2018年6月30日\n",
      "-------------------------------------------------------正文----------------------------------------------------------\n",
      "6月30日，国家发展改革委、商务部以第19号令，发布了《自由贸易试验区外商投资准入特别管理措施(负面清单)(2018年版)》。与6月28日发布的全国版相比，自贸试验区外资准入负面清单有哪些进一步开放措施？\n",
      "------------------------------------------------------相关主题--------------------------------------------------------\n",
      "[]\n",
      "----------------------------------------------------------7---------------------------------------------------------\n",
      "\n",
      "\n",
      "\n",
      "\n",
      "--------------------------------------------------------第8条新闻----------------------------------------------------\n",
      "标题：央行：将按月提高支付机构客户备付金集中交存比例 | 时间：2018年6月30日\n",
      "-------------------------------------------------------正文----------------------------------------------------------\n",
      "6月29日，中国人民银行办公厅发布关于支付机构客户备付金全部集中交存有关事宜的通知。通知明确，自2018年7月9日起，按月逐步提高支付机构客户备付金集中交存比例，到2019年1月14日实现100%集中交存。交存时间为每月第二个星期一(遇节假日顺延)，交存基数为上一个月客户备付金日均余额。跨境人民币备付金账户、基金销售结算专用账户、外汇备付金账户余额暂不计入交存基数。通知指出，为满足支付机构特定业务需求，支付机构可以在备付金银行持有相关业务专用账户。一是开展跨境人民币业务的支付机构，可以持有1个跨境人民币备付金账户，办理业务过程中，应遵守人民银行跨境人民币业务有关规定。二是提供基金销售支付服务的支付机构，可以持有1个基金销售结算专用账户，办理业务过程中，应遵守中国证券监督管理委员会有关规定。三是获准办理“预付卡发行与受理”业务的支付机构，可以持有1个备付金账户。该账户只能用于收取客户的购卡、充值等资金，账户内资金应于每个工作日大额支付系统业务截止前全部交存至人民银行“备付金集中存管账户”。四是外汇备付金账户的开立和使用，执行国家外汇管理局现行规定。值得注意的是，除上述跨境人民币备付金账户、基金销售结算专用账户、预付卡备付金账户和外汇备付金账户外，支付机构应于2019年1月14日前注销在商业银行的其余备付金账户。\n",
      "------------------------------------------------------相关主题--------------------------------------------------------\n",
      "['银行']\n",
      "----------------------------------------------------------8---------------------------------------------------------\n",
      "\n",
      "\n",
      "\n",
      "\n",
      "--------------------------------------------------------第9条新闻----------------------------------------------------\n",
      "标题：天津东丽区加强环境保护 改善生态环境 | 时间：2018年6月28日\n",
      "-------------------------------------------------------正文----------------------------------------------------------\n",
      "6月26日，东丽区召开环境保护专题会议，研究进一步改善东丽区生态环境，加强环境保护的工作举措。区委副书记、区长孔德昌出席会议并讲话，副区长李光华主持会议。 会上，区“散乱污”企业综合整治办公室、区清指办、区河长办分别就东丽区“散乱污”企业整治、大气污染防治、黑臭水体治理工作进行了汇报，并安排部署下一阶段工作。 孔德昌指出，加强生态环境保护是重要的政治任务，同时也是关系民生的重大社会问题。我们必须要把广大人民群众热切期盼的生态环境质量改善放在重要位置抓严抓实。中央环保督察组即将开始“回头看”检查，全区各单位各部门要以此为契机，进一步强化做好环保工作的责任感、紧迫感，准确把握“回头看”的各项要求，主动发现问题，主动解决问题，主动实施问责，严格落实“党政同责”“一岗双责”，提高工作标准，细化工作举措，坚持问题导向，做到“问题不查清不放过、整改不到位不放过、责任不落实不放过、群众不满意不放过”，不折不扣地抓好生态环境改善。 孔德昌还就大气污染防治、“散乱污”企业综合整治、黑臭水体整治等工作分别提出具体要求。他强调，大气污染防治要切实加大综合执法力度，处理好拆迁工期与扬尘管控的关系，优化交通组织，严查严管夜间渣土运输；“散乱污”企业综合整治要在6月底前完成关停取缔类和原地提升改造类的整治工作，加强巡查和日常监管，加快搬迁改造企业的整治进度；黑臭水体整治要增强大局意识，加强组织领导，做好部门间的沟通、支持和配合，形成全区共治的强大合力。按照标本兼治、重在治本的原则，研究解决垃圾出路问题，并组织实施水系循环连通，彻底解决污水排放问题，实现根治黑臭水体、长效保持治理成果的目标。\n",
      "------------------------------------------------------相关主题--------------------------------------------------------\n",
      "['强生']\n",
      "----------------------------------------------------------9---------------------------------------------------------\n",
      "\n",
      "\n",
      "\n",
      "\n",
      "--------------------------------------------------------第10条新闻----------------------------------------------------\n",
      "标题：外管局：3月末中国银行业对外金融净负债2817亿美元 | 时间：2018年6月27日\n",
      "-------------------------------------------------------正文----------------------------------------------------------\n",
      "外管局：3月末中国银行业对外金融净负债2817亿美元，其中，人民币净负债2841亿美元，外币净资产24亿美元。（外管局网站）2018年3月末，我国银行业对外金融资产10888亿美元，对外负债13704亿美元，对外净负债2817亿美元，其中，人民币净负债2841亿美元，外币净资产24亿美元。在银行业对外金融资产中，存贷款资产8212亿美元，债券资产1246亿美元，股权等其他资产1430亿美元，分别占银行业对外金融资产的75%、11%和13%。分币种看，人民币资产1291亿美元，美元资产7452亿美元，其他币种资产2145亿美元，分别占12%、68%和20%。银行业对外金融资产中，投向境外银行部门5233亿美元，占比48%；投向境外非银行部门5654亿美元，占比52%。在银行业对外负债中，存贷款负债7343亿美元，债券负债2008亿美元，股权等其他负债4353亿美元，分别占银行业对外负债的54%、15%和32%。分币种看，人民币负债4132亿美元，美元负债5158亿美元，其他币种负债4414亿美元，分别占30%、38%和32%。我国银行业对外负债中，来自境外银行部门5793亿美元，占比42%；来自境外非银行部门7911亿美元，占比58%。\n",
      "------------------------------------------------------相关主题--------------------------------------------------------\n",
      "[]\n",
      "----------------------------------------------------------10---------------------------------------------------------\n",
      "\n",
      "\n",
      "\n",
      "\n"
     ]
    }
   ],
   "source": [
    "counter = 0\n",
    "while counter < num_news:\n",
    "    print('--------------------------------------------------------第' + str(counter + 1) + '条新闻----------------------------------------------------')\n",
    "    print('标题：' + news['title'][counter] + ' | 时间：' + \n",
    "          str(news['year'][counter]) + '年' + str(news['month'][counter]) + '月' + str(news['day'][counter]) + '日')\n",
    "    print('-------------------------------------------------------正文----------------------------------------------------------')\n",
    "    print(news['contents'][counter])\n",
    "    print('------------------------------------------------------相关主题--------------------------------------------------------')\n",
    "    print(news['related'][counter])\n",
    "    print('----------------------------------------------------------' + str(counter + 1) + '---------------------------------------------------------')\n",
    "    print('')\n",
    "    print('')\n",
    "    print('')\n",
    "    print('')\n",
    "    counter += 1"
   ]
  },
  {
   "cell_type": "code",
   "execution_count": null,
   "metadata": {},
   "outputs": [],
   "source": []
  }
 ],
 "metadata": {
  "kernelspec": {
   "display_name": "Python 3",
   "language": "python",
   "name": "python3"
  },
  "language_info": {
   "codemirror_mode": {
    "name": "ipython",
    "version": 3
   },
   "file_extension": ".py",
   "mimetype": "text/x-python",
   "name": "python",
   "nbconvert_exporter": "python",
   "pygments_lexer": "ipython3",
   "version": "3.6.5"
  }
 },
 "nbformat": 4,
 "nbformat_minor": 2
}
