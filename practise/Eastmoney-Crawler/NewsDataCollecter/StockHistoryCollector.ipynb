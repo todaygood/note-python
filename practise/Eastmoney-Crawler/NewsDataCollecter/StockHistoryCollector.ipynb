{
 "cells": [
  {
   "cell_type": "markdown",
   "metadata": {},
   "source": [
    "# 东方财富网股票历史记录数据抓取器\n",
    "## 拂晓工作室\n",
    "### 此程序可以爬取所有股票的所有历史记录！"
   ]
  },
  {
   "cell_type": "markdown",
   "metadata": {},
   "source": [
    "# 参考资料\n",
    "* [1] 抓取数据的代码：https://zhuanlan.zhihu.com/p/34956727"
   ]
  },
  {
   "cell_type": "code",
   "execution_count": 4,
   "metadata": {},
   "outputs": [],
   "source": [
    "# 导入需要使用到的模块 \n",
    "import urllib\n",
    "import re\n",
    "import pandas as pd\n",
    "import pymysql\n",
    "import os\n",
    "\n",
    "# 爬虫抓取网页函数 \n",
    "def getHtml(url):\n",
    "    html = urllib.request.urlopen(url).read()\n",
    "    html = html.decode('gbk')\n",
    "    return html\n",
    "\n",
    "\n",
    "# 抓取网页股票代码函数 \n",
    "def getStackCode(html):\n",
    "    s = r'<li><a target=\"_blank\" href=\"http://quote.eastmoney.com/\\S\\S(.*?).html\">'\n",
    "    pat = re.compile(s)\n",
    "    code = pat.findall(html)\n",
    "    return code"
   ]
  },
  {
   "cell_type": "code",
   "execution_count": 5,
   "metadata": {},
   "outputs": [],
   "source": [
    "Url = 'http://quote.eastmoney.com/stocklist.html'  # 东方财富网股票数据连接地址\n",
    "filepath = '../Datasets/Eastmoney/Stock_History/'  # 定义数据文件保存路径"
   ]
  },
  {
   "cell_type": "code",
   "execution_count": null,
   "metadata": {},
   "outputs": [],
   "source": [
    "# 实施抓取\n",
    "code = getStackCode(getHtml(Url)) \n",
    "# 获取所有股票代码（以6开头的，应该是沪市数据）集合\n",
    "CodeList = []\n",
    "for item in code:\n",
    "    if item[0] == '6':\n",
    "        CodeList.append(item)\n",
    "# 抓取数据并保存到本地csv文件 \n",
    "for code in CodeList:\n",
    "    print('正在获取股票%s数据'%code)\n",
    "    url = 'http://quotes.money.163.com/service/chddata.html?code=0'+code+\\\n",
    "        '&end=20161231&fields=TCLOSE;HIGH;LOW;TOPEN;LCLOSE;CHG;PCHG;TURNOVER;VOTURNOVER;VATURNOVER;TCAP;MCAP'\n",
    "    urllib.request.urlretrieve(url, filepath+code+'.csv')"
   ]
  },
  {
   "cell_type": "code",
   "execution_count": null,
   "metadata": {},
   "outputs": [],
   "source": []
  }
 ],
 "metadata": {
  "kernelspec": {
   "display_name": "Python 3",
   "language": "python",
   "name": "python3"
  },
  "language_info": {
   "codemirror_mode": {
    "name": "ipython",
    "version": 3
   },
   "file_extension": ".py",
   "mimetype": "text/x-python",
   "name": "python",
   "nbconvert_exporter": "python",
   "pygments_lexer": "ipython3",
   "version": "3.6.5"
  }
 },
 "nbformat": 4,
 "nbformat_minor": 1
}
