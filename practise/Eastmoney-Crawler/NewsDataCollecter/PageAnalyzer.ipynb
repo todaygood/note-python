{
 "cells": [
  {
   "cell_type": "markdown",
   "metadata": {
    "collapsed": true
   },
   "source": [
    "# BeautifulSoup测试\n",
    "## 拂晓工作室\n",
    "### 测试单个网页的提取工作！\n",
    "* [1] bs4的使用方法：https://qiita.com/rusarusa/items/d7f014ba80d6fe7a3e07\n",
    "* [2] re的使用方法：https://stackoverflow.com/questions/23669024/how-to-strip-a-specific-word-from-a-string\n",
    "* [3] str.replace的使用方法：https://www.tutorialspoint.com/python/string_replace.htm\n",
    "* [4] BS4中文文档：https://www.crummy.com/software/BeautifulSoup/bs4/doc.zh/\n",
    "* [5] Cutting and slicing strings in python: https://www.pythoncentral.io/cutting-and-slicing-strings-in-python/"
   ]
  },
  {
   "cell_type": "code",
   "execution_count": 1,
   "metadata": {},
   "outputs": [],
   "source": [
    "from bs4 import BeautifulSoup\n",
    "import urllib.request\n",
    "import re"
   ]
  },
  {
   "cell_type": "code",
   "execution_count": 2,
   "metadata": {},
   "outputs": [],
   "source": [
    "url = 'http://finance.eastmoney.com/news/1350,20180629897014785.html'\n",
    "req = urllib.request.Request(url)\n",
    "response = urllib.request.urlopen(req)\n",
    "html = response.read()\n",
    "soup = BeautifulSoup(html, \"lxml\")"
   ]
  },
  {
   "cell_type": "code",
   "execution_count": 16,
   "metadata": {},
   "outputs": [
    {
     "name": "stdout",
     "output_type": "stream",
     "text": [
      "地方AMC高歌猛进 监管短板亟待补齐\n"
     ]
    }
   ],
   "source": [
    "# 获得文章的标题\n",
    "title = soup.find('h1').get_text()\n",
    "print(title)"
   ]
  },
  {
   "cell_type": "code",
   "execution_count": 17,
   "metadata": {},
   "outputs": [
    {
     "name": "stdout",
     "output_type": "stream",
     "text": [
      "2018年06月29日 06:42 2018 06 29\n"
     ]
    }
   ],
   "source": [
    "# 获得文章的发表时间\n",
    "time = content = soup.find(class_=\"time\").get_text()\n",
    "year = time[0:4]\n",
    "month = time[5:7]\n",
    "day = time[8:10]\n",
    "print(time,year,month,day)\n"
   ]
  },
  {
   "cell_type": "code",
   "execution_count": 18,
   "metadata": {},
   "outputs": [
    {
     "name": "stdout",
     "output_type": "stream",
     "text": [
      "摘要\n【地方AMC高歌猛进 监管短板亟待补齐】央行年内第三次降准，明确“用于支持市场化法治化‘债转股’项目，同时撬动相同规模的社会资金参与”。专家和市场人士认为，去产能和化解不良资产风险任重道远，监管“暖风”料将为地方资产管理公司(AMC)打开新的发展和想象空间。预计未来将有更多民间资本进入地方不良资产处置市场。尤其是已经有所布局的上市公司，有望凭借互联网不良资产处置等创新模式，将不良资产“负矿”变为“富矿”。与此同时，不少业内人士呼吁尽快出台地方AMC监管办法，明确其主业经营范围，引导其在去杠杆、防风险等方面发挥更多积极作用。（中国证券报）\n\n\n　　央行年内第三次降准，明确“用于支持市场化法治化‘债转股’项目，同时撬动相同规模的社会资金参与”。专家和市场人士认为，去产能和化解不良资产风险任重道远，监管“暖风”料将为地方资产管理公司(AMC)打开新的发展和想象空间。预计未来将有更多民间资本进入地方不良资产处置市场。尤其是已经有所布局的上市公司，有望凭借互联网不良资产处置等创新模式，将不良资产“负矿”变为“富矿”。　　与此同时，不少业内人士呼吁尽快出台地方AMC监管办法，明确其主业经营范围，引导其在去杠杆、防风险等方面发挥更多积极作用。　　资产规模超4000亿元　　地方AMC的发展速度着实惊人。《中国地方资产管理行业白皮书(2017)》的统计数据显示，截至2017年年底，地方AMC数量增加到57家，注册资本金增长到1545亿元，总资产超过4000亿元，净资产超过1500亿元。在公司数量、业务规模和业务模式创新上，AMC行业取得了长足发展和进步。　　原银监会办公厅2016年下发的《关于适当调整地方资产管理公司有关政策的函》提出：一方面放开省级AMC“二胎”；另一方面放宽“地方AMC收购的不良资产不得对外转让，只能进行债务重组”的限制。在监管政策鼓励下，10个省级行政区至少已有两家地方AMC，而广东、福建、浙江、山东等省份则均已成立3家。　　接受中国证券报记者采访的AMC人士认为，由于去产能和化解不良资产风险任务量仍不小，预计3-5年内地方AMC的资产规模仍将以较快速度上升。尤其是接下来地方城商行、农商行的不良贷款率料继续上行，也给地方AMC的业务扩张带来更多机遇。　　中国人民大学重阳金融研究院高级研究员董希淼指出，不良资产处置行业存在逆周期性。随着监管对不良资产真实性要求的进一步提高，不良资产处置的市场总量在扩大。　　上市公司布局地方AMC　　在利润和金融牌照优势的吸引下，更多“玩家”在积极布局，其中以上市公司最为积极。早在2016年7月6日，国内首家民营全资地方AMC海德资管成立；今年6月13日，海德资管母公司海德股份更是公告称，海德资管完成工商变更登记，注册资本由10亿元增至47.21亿元。今年5月8日，中航资本公告称，拟出资35亿元设立成都益航资产管理有限公司(暂定名称)。　　董希淼表示：“对上市公司来说，布局地方AMC，最看中的无疑就是金融牌照红利，发挥协同效应，提升公司经营绩效。”　　近期披露的上市公司业绩数据支持了董希淼的这一说法。比如，在开展不良资产处置业务的首个财年2017年，海德股份业绩表现较为亮眼，年报显示，其2017年归母净利润逾7300万元。布局AMC领域较早的吉艾科技，其AMC板块在一季度行业淡季仍创造了7718.85万元利润。国泰君安非银金融业首席分析师刘欣琦认为，由于季节性因素，吉艾科技的AMC业务下半年利润表现有望超过上半年。　　不少专家和业内人士预计，接下来仍会有更多民营企业、上市公司谋求参与不良资产处置市场的机会。　　“高歌猛进”存隐忧　　不过，地方AMC在“高歌猛进”之下，也有风险显现。比如，今年2月爆出成立于2015年的吉林省金融资产管理有限公司被股东吉林省金融控股集团股份有限公司诉请“解散”，给狂飙的地方AMC浇下一盆“冷水”。　　“一些地方省级AMC的不良处置能力，甚至都比不上民营资产管理公司。”一位AMC业内人士向中国证券报记者表示，目前地方AMC整体专业性较差。过去不少地方AMC依赖做商业银行的“过桥”通道，真正的不良资产处置能力并不高。而随着监管趋严，地方AMC面临回归主业、质效转型的问题。　　上述人士表示，目前地方AMC发展势头迅猛，数量与业务规模呈现较快增长，但在经营管理、投融资等领域仍存在诸多问题。比如业务模式发展受限，盈利模式单一；融资渠道窄，融资成本高；客观上缺少针对地方AMC业务的税收优惠政策和司法部门政策协调；另外，不少地方AMC内部法人治理结构不够完善，权责利不统一等。　　国家金融与发展实验室银行研究中心主任曾刚直言，与已拥有全金融牌照的四大AMC相比，地方AMC仅拥有不良资产处置牌照，尚未拥有处置不良资产的核心能力。培养核心能力需要监管引导，从地方AMC自身来说，找准市场定位最为关键。　　交通银行首席经济学家连平表示，地方AMC首要的任务就是规范和治理，建议成立不良资产行业协会来组织、协调不良资产管理行业的业务和发展。　　董希淼建议，地方AMC要发挥自己贴近市场的优势，加大与地方政府、银行、金融机构以及四大AMC的合作，联手处置不良资产。政府部门也应对地方AMC处置不良资产给予适当支持，但边界要清晰。“下一步需出台监管规则，引导地方AMC专注于不良资产处置主业，减少银行不良资产压力，为去杠杆、防风险发挥更多积极作用。”\n"
     ]
    }
   ],
   "source": [
    "# 获得文章的内容\n",
    "content = soup.find(id=\"ContentBody\").get_text()\n",
    "index = re.search('责任编辑', content).span()[0]-1\n",
    "content = content[0:index].strip()\n",
    "print(content)"
   ]
  },
  {
   "cell_type": "code",
   "execution_count": 19,
   "metadata": {},
   "outputs": [
    {
     "name": "stdout",
     "output_type": "stream",
     "text": [
      "['海德股份', '中航资本', '吉艾科技', '国泰君安', '银行', '交通银行']\n"
     ]
    }
   ],
   "source": [
    "# 获得相关的股票单\n",
    "related_stock = soup.find_all(class_='keytip')\n",
    "related_stocks = []\n",
    "# print(related_stocks)\n",
    "for each in related_stock:\n",
    "    stock = each.get_text()\n",
    "    related_stocks.append(stock)\n",
    "    # print(each.get('href'))  #大概不需要URL\n",
    "print(related_stocks)"
   ]
  },
  {
   "cell_type": "code",
   "execution_count": null,
   "metadata": {},
   "outputs": [],
   "source": []
  }
 ],
 "metadata": {
  "kernelspec": {
   "display_name": "Python 2",
   "language": "python",
   "name": "python2"
  },
  "language_info": {
   "codemirror_mode": {
    "name": "ipython",
    "version": 2
   },
   "file_extension": ".py",
   "mimetype": "text/x-python",
   "name": "python",
   "nbconvert_exporter": "python",
   "pygments_lexer": "ipython2",
   "version": "2.7.6"
  }
 },
 "nbformat": 4,
 "nbformat_minor": 0
}
