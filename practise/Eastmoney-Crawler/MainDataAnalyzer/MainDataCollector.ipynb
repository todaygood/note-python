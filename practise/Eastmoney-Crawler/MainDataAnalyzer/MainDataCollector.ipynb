{
 "cells": [
  {
   "cell_type": "markdown",
   "metadata": {},
   "source": [
    "# 主数据获取器"
   ]
  },
  {
   "cell_type": "markdown",
   "metadata": {},
   "source": [
    "# 参考资料\n",
    "* [1] [知乎 - 抓取数据的代码](https://zhuanlan.zhihu.com/p/34956727)\n",
    "* [2] [CSDN - macOS下使用Automator转换CSV编码格式](https://blog.csdn.net/wqdwin/article/details/76058154)\n",
    "* [3] [CSDN - 带有搜索框的爬取](https://blog.csdn.net/hguo11/article/details/69813583)\n",
    "* [4] [CSDN - PhantomJS, Selenium, Python3配置](https://blog.csdn.net/zxy987872674/article/details/53082896)\n",
    "* [5] [CSDN - Beauttifulsoup爬取网站table](https://blog.csdn.net/belldeep/article/details/78887318)\n",
    "* [6] [CSDN - Python爬取类似股票表格](https://blog.csdn.net/mini_mooned/article/details/53575289)\n",
    "* [7] [CSDN - 使用Python+selenium+BeautifulSoup抓取动态网页的关键信息](https://blog.csdn.net/vincentluo91/article/details/52947214)\n",
    "* [8] [CSDN - 使用Decimal进行精确计算](https://blog.csdn.net/weixin_37989267/article/details/79473706)\n",
    "* [9] [CNBLOGS - Python异常处理](https://www.cnblogs.com/cui0x01/p/6196378.html)"
   ]
  },
  {
   "cell_type": "markdown",
   "metadata": {},
   "source": [
    "# 数据分析方向\n",
    "### 目标 (Main Goal)：\n",
    "* 主要行业：电子信息，新能源，新材料，新技术 （OK）\n",
    "* 金叉（MACD上穿）\n",
    "* 成交量环比增幅30%以上（OK）\n",
    "* 换手率大于5%（OK）\n",
    "* 营业收入增加30%以上（同年）\n",
    "* 净利润增加30%以上（同年）\n",
    "\n",
    "### 各列中英文对应表\n",
    "* code = 代码，name = 名称，close = 最新价\n",
    "* percent_chg = 涨跌幅，change = 涨跌额\n",
    "* volume = 成交量，turn_volume = 成交额，amplitude = 振幅\n",
    "* high = 最高，low = 最低\n",
    "* now_open = 今开，previous_close = 昨收\n",
    "* volume_rate = 量比，turnover_rate = 换手率，pr_ratio = 市盈率(实时变化 暂不采用)\n",
    "\n",
    "### SFrame命名中英文对应表\n",
    "* info = 电子信息\n",
    "* energy = 新能源\n",
    "* material = 新材料\n",
    "* tech = 全息技术"
   ]
  },
  {
   "cell_type": "markdown",
   "metadata": {},
   "source": [
    "# 为每个子分区建立不同的list"
   ]
  },
  {
   "cell_type": "code",
   "execution_count": 1,
   "metadata": {},
   "outputs": [],
   "source": [
    "# Import Statement\n",
    "from selenium import webdriver\n",
    "from bs4 import BeautifulSoup\n",
    "from decimal import Decimal\n",
    "from selenium.common.exceptions import ElementNotVisibleException\n",
    "import time\n",
    "from time import sleep\n",
    "import urllib\n",
    "import re\n",
    "import requests\n",
    "import csv\n",
    "import pymysql\n",
    "import os\n",
    "import os,sys\n",
    "import turicreate as tc\n",
    "import pandas as pd"
   ]
  },
  {
   "cell_type": "code",
   "execution_count": 2,
   "metadata": {},
   "outputs": [],
   "source": [
    "# 定义要搜索的URL信息\n",
    "search_area = {'电子信息' : 'http://quote.eastmoney.com/center/boardlist.html#boards-BK04471', \n",
    "               '新能源' : 'http://quote.eastmoney.com/center/boardlist.html#boards-BK04931', \n",
    "               '新材料':'http://quote.eastmoney.com/center/boardlist.html#boards-BK05231', \n",
    "               '全息技术':'http://quote.eastmoney.com/center/boardlist.html#boards-BK06991'}\n"
   ]
  },
  {
   "cell_type": "markdown",
   "metadata": {},
   "source": [
    "# 解析表格"
   ]
  },
  {
   "cell_type": "code",
   "execution_count": 3,
   "metadata": {},
   "outputs": [],
   "source": [
    "# 一个从页面获取页数的函数\n",
    "def getPageNumber(bs):\n",
    "    all_buttons = bs.findAll(class_ = \"paginate_button\")\n",
    "    if len(all_buttons) == 2:\n",
    "        return 1  # 处理只有一页的情况\n",
    "    else:\n",
    "        return len(all_buttons) - 2  # 下一页和Go按钮\n",
    "\n",
    "# 一个自动判断量词的函数\n",
    "def smartMultiply(string):\n",
    "    if(string[len(string)-1:len(string)] == '万'):\n",
    "        string = Decimal(string[0:len(string)-1])\n",
    "        string = float(string) * 10000\n",
    "    elif(string[len(string)-1:len(string)] == '亿'):\n",
    "        string = Decimal(string[0:len(string)-1])\n",
    "        string = float(string) * 100000000\n",
    "    elif(string[len(string)-1:len(string)] == '%'):\n",
    "        string = Decimal(string[0:len(string)-1])\n",
    "        string = float(string) * 0.01\n",
    "    else:\n",
    "        string = float(string)\n",
    "    return string\n",
    "\n",
    "# 从一个静态BeautifulSoup页面解析表格并存储进SFrame\n",
    "def grabData(bs, SFrame):\n",
    "    # 解出表格\n",
    "    table = bs.findAll(role = 'row')\n",
    "    table = table[7: len(table)-1]\n",
    "    # 分析每个表格\n",
    "    counter = 0\n",
    "\n",
    "    while counter < len(table):\n",
    "\n",
    "        row_sframe = tc.SFrame({'code':[str(table[counter].find(class_ = ' listview-col-Code').string)],\n",
    "                                'name':[str(table[counter].find(class_ = ' listview-col-Name').string)], \n",
    "                                'close':[smartMultiply(table[counter].find(class_ = ' listview-col-Close').string)], \n",
    "                                'percent_chg':[smartMultiply(table[counter].find(class_ = 'listview-col-ChangePercent sorting_1').string)],\n",
    "                                'change':[smartMultiply(table[counter].find(class_ = ' listview-col-Change').string)],\n",
    "                                'volume':[smartMultiply(table[counter].find(class_ = ' listview-col-Volume').string)],\n",
    "                                'turn_volume':[smartMultiply(table[counter].find(class_ = ' listview-col-Amount').string)], \n",
    "                                'amplitude':[smartMultiply(table[counter].find(class_ = ' listview-col-Amplitude').string)], \n",
    "                                'high':[smartMultiply(table[counter].find(class_ = ' listview-col-High').string)], \n",
    "                                'low':[smartMultiply(table[counter].find(class_ = ' listview-col-Low').string)], \n",
    "                                'now_open':[smartMultiply(table[counter].find(class_ = ' listview-col-Open').string)], \n",
    "                                'previous_close':[smartMultiply(table[counter].find(class_ = ' listview-col-PreviousClose').string)],\n",
    "                                'volume_rate':[smartMultiply(table[counter].find(class_ = ' listview-col-VolumeRate').string)],\n",
    "                                'turnover_rate':[smartMultiply(table[counter].find(class_ = ' listview-col-TurnoverRate').string)], \n",
    "                                'report_url':['http://emweb.securities.eastmoney.com/f10_v2/FinanceAnalysis.aspx?type=web&code=sz' + table[counter].find(class_ = ' listview-col-Code').string + '#lrb-0'], \n",
    "                                })\n",
    "        counter += 1\n",
    "        # print(row_sframe)\n",
    "        SFrame = SFrame.append(row_sframe)\n",
    "        \n",
    "    return SFrame\n",
    "\n",
    "# 自动处理数据的主程序\n",
    "def makeData(topic, SFrame):\n",
    "    browser = webdriver.Chrome() # Get local session of chrome\n",
    "    url = search_area[topic]  # Example: '电子信息'\n",
    "    browser.get(url) #Load page\n",
    "    browser.implicitly_wait(2) #智能等待2秒\n",
    "    \n",
    "    # 第一次访问时判定菜单数量来决定浏览多少次表格\n",
    "    bs = BeautifulSoup(browser.page_source, \"lxml\")\n",
    "    page_number = getPageNumber(bs)\n",
    "    \n",
    "    # 循环浏览页面直到搜集完毕所有table\n",
    "    counter = 0\n",
    "    while counter < page_number:\n",
    "        SFrame = grabData(bs, SFrame)\n",
    "        try:\n",
    "            browser.find_element_by_id('main-table_next').click()\n",
    "        except ElementNotVisibleException:\n",
    "            print('Warning: Some data are out of reach.')\n",
    "        bs = BeautifulSoup(browser.page_source, \"lxml\")\n",
    "        counter += 1\n",
    "     \n",
    "    SFrame = SFrame[1:len(SFrame)] # 删掉占位符\n",
    "    SFrame = SFrame.unique()\n",
    "    return SFrame\n",
    "\n",
    "# 创建占位符的函数, 因为SFrame不允许创建空行，于是预先准备占位符用于定义各列数据类型。\n",
    "def initSFrame():\n",
    "    sframe = tc.SFrame({'code':['000000'],'name':['哔哩哔哩'],\n",
    "                      'close':[0.0],'percent_chg':[0.0],\n",
    "                      'change':[0.0],'volume':[0.0],'turn_volume':[0.0], 'amplitude':[0.0], \n",
    "                      'high':[0.0], 'low':[0.0], \n",
    "                      'now_open':[0.0], 'previous_close':[0.0], 'volume_rate':[0.0],\n",
    "                      'turnover_rate':[0.0], 'report_url':['http://www.bilibili.com']})\n",
    "    return sframe"
   ]
  },
  {
   "cell_type": "code",
   "execution_count": 4,
   "metadata": {
    "scrolled": false
   },
   "outputs": [
    {
     "name": "stdout",
     "output_type": "stream",
     "text": [
      "Warning: Some data are out of reach.\n"
     ]
    }
   ],
   "source": [
    "# 创建四个空SFrame，以占位行开头\n",
    "info = initSFrame()\n",
    "energy = initSFrame()\n",
    "material = initSFrame()\n",
    "tech = initSFrame()\n",
    "\n",
    "# 获取信息\n",
    "info = makeData('电子信息', info)\n",
    "energy = makeData('新能源', energy)\n",
    "material = makeData('新材料', material)\n",
    "tech = makeData('全息技术', tech)"
   ]
  },
  {
   "cell_type": "markdown",
   "metadata": {},
   "source": [
    "# 初步数据分析"
   ]
  },
  {
   "cell_type": "code",
   "execution_count": 5,
   "metadata": {
    "scrolled": false
   },
   "outputs": [],
   "source": [
    "# 初步筛选分析程序\n",
    "def analyze_stock(SFrame):\n",
    "    SFrame = analysis_turnover_rate(SFrame)\n",
    "    SFrame = analysis_volume_rate(SFrame)\n",
    "    return SFrame\n",
    "\n",
    "# 返回所有换手率大于5%的行\n",
    "def analysis_turnover_rate(SFrame):\n",
    "    return SFrame[SFrame['turnover_rate'] > 0.05]\n",
    "\n",
    "# 返回所有量比大于30%的行\n",
    "def analysis_volume_rate(SFrame):\n",
    "    return SFrame[ SFrame['volume_rate'] > 0.3]\n",
    "\n",
    "\n",
    "analyze_info = analyze_stock(info)\n",
    "analyze_energy = analyze_stock(energy)\n",
    "analyze_material = analyze_stock(material)\n",
    "analyze_tech = analyze_stock(tech)\n",
    "\n",
    "# analyze_tech.show()  # Debug"
   ]
  },
  {
   "cell_type": "markdown",
   "metadata": {},
   "source": [
    "# 深度分析报表"
   ]
  },
  {
   "cell_type": "code",
   "execution_count": 24,
   "metadata": {
    "scrolled": false
   },
   "outputs": [],
   "source": [
    "def getReport(url, income_limit, profit_limit):\n",
    "    browser = webdriver.Chrome() # Get local session of chrome\n",
    "    browser.get(url) #Load page\n",
    "    soup = BeautifulSoup(browser.page_source, \"lxml\")\n",
    "    browser.close()\n",
    "\n",
    "    ulist = []\n",
    "    trs = soup.find_all('tr')\n",
    "    for tr in trs:\n",
    "        ui = []\n",
    "        for td in tr:\n",
    "            ui.append(td.string)\n",
    "        ulist.append(ui)\n",
    "\n",
    "\n",
    "    income_increase = 0\n",
    "    profit_increase = 0\n",
    "    for element in ulist:\n",
    "        if ('营业总收入' in element):\n",
    "            income_data_list = element\n",
    "            now_data = smartMultiply(income_data_list[3])\n",
    "            past_data = smartMultiply(income_data_list[11])\n",
    "            income_increase = (now_data - past_data) / past_data\n",
    "            # print('现营业总收入', now_data)\n",
    "            # print('一年前营业总收入', past_data)\n",
    "            # print('营业总收入增长', income_increase)\n",
    "        elif('净利润' in element):\n",
    "            profit_data_list = element\n",
    "            now_data = smartMultiply(profit_data_list[3])\n",
    "            past_data = smartMultiply(profit_data_list[11])\n",
    "            profit_increase = (now_data - past_data) / past_data\n",
    "            # print('现净利润', now_data)\n",
    "            # print('一年前净利润', past_data)\n",
    "            # print('净利润增长', income_increase)\n",
    "    # increase_list = [income_increase, profit_increase]  # [营业总收入增长, 净利润增长]\n",
    "    \n",
    "    if(income_increase > income_limit and profit_increase > profit_limit):\n",
    "        print('营业总收入增长', income_increase)\n",
    "        print('净利润增长', profit_increase)\n",
    "    return income_increase > income_limit and profit_increase > profit_limit\n",
    "\n",
    "# 跑一下\n",
    "# url = 'http://emweb.securities.eastmoney.com/f10_v2/FinanceAnalysis.aspx?type=web&code=sz002195#lrb-0'\n",
    "# getReport(url)"
   ]
  },
  {
   "cell_type": "markdown",
   "metadata": {},
   "source": [
    "# 推荐股票"
   ]
  },
  {
   "cell_type": "code",
   "execution_count": 25,
   "metadata": {},
   "outputs": [],
   "source": [
    "def recommendStock(SFrame):\n",
    "    income_limit = 0.25\n",
    "    profit_limit = 0.25\n",
    "    counter = 0\n",
    "    while counter < len(SFrame):\n",
    "        if getReport(SFrame[counter]['report_url'], income_limit, profit_limit):\n",
    "            print(SFrame[counter]['name'], SFrame[counter]['code'])\n",
    "        counter += 1"
   ]
  },
  {
   "cell_type": "code",
   "execution_count": 26,
   "metadata": {},
   "outputs": [
    {
     "name": "stdout",
     "output_type": "stream",
     "text": [
      "营业总收入增长 0.5740740740740741\n",
      "净利润增长 0.8906560636182903\n",
      "优博讯\n"
     ]
    }
   ],
   "source": [
    "recommendStock(analyze_info)"
   ]
  },
  {
   "cell_type": "code",
   "execution_count": 27,
   "metadata": {},
   "outputs": [],
   "source": [
    "recommendStock(analyze_energy)"
   ]
  },
  {
   "cell_type": "code",
   "execution_count": 28,
   "metadata": {},
   "outputs": [],
   "source": [
    "recommendStock(analyze_material)"
   ]
  },
  {
   "cell_type": "code",
   "execution_count": 29,
   "metadata": {},
   "outputs": [],
   "source": [
    "recommendStock(analyze_tech)"
   ]
  },
  {
   "cell_type": "markdown",
   "metadata": {},
   "source": [
    "# ============================================================\n",
    "# ----------------------------------------TRASH----------------------------------------\n",
    "# ============================================================"
   ]
  },
  {
   "cell_type": "code",
   "execution_count": 8,
   "metadata": {
    "scrolled": true
   },
   "outputs": [
    {
     "name": "stdout",
     "output_type": "stream",
     "text": [
      "营业总收入增长 0.186473429951691\n",
      "净利润增长 0.186473429951691\n",
      "营业总收入增长 0.17987860952731285\n",
      "净利润增长 0.17987860952731285\n",
      "营业总收入增长 -0.6056915470879055\n",
      "净利润增长 -0.6056915470879055\n",
      "营业总收入增长 -0.08842105263157894\n",
      "净利润增长 -0.08842105263157894\n",
      "营业总收入增长 0.5740740740740741\n",
      "净利润增长 0.5740740740740741\n",
      "营业总收入增长 0.2306940371456501\n",
      "净利润增长 0.2306940371456501\n",
      "营业总收入增长 0.11932724372915761\n",
      "净利润增长 0.11932724372915761\n"
     ]
    }
   ],
   "source": [
    "analyze_info['increase'] = analyze_info['report_url'].apply(getReport)"
   ]
  },
  {
   "cell_type": "code",
   "execution_count": 7,
   "metadata": {},
   "outputs": [
    {
     "name": "stdout",
     "output_type": "stream",
     "text": [
      "现营业总收入 439200000.00000006\n",
      "一年前营业总收入 420500000.0\n",
      "营业总收入增长 0.04447086801426887\n",
      "现净利润 216900000.0\n",
      "一年前净利润 209800000.0\n",
      "净利润增长 0.04447086801426887\n"
     ]
    }
   ],
   "source": [
    "url = 'http://emweb.securities.eastmoney.com/f10_v2/FinanceAnalysis.aspx?type=web&code=sz002195#lrb-0'\n",
    "browser = webdriver.Chrome() # Get local session of chrome\n",
    "browser.get(url) #Load page\n",
    "soup = BeautifulSoup(browser.page_source, \"lxml\")\n",
    "browser.close()\n",
    "\n",
    "ulist = []\n",
    "trs = soup.find_all('tr')\n",
    "for tr in trs:\n",
    "    ui = []\n",
    "    for td in tr:\n",
    "        ui.append(td.string)\n",
    "    ulist.append(ui)\n",
    "\n",
    "    \n",
    "income_increase = 0\n",
    "profit_increase = 0\n",
    "for element in ulist:\n",
    "    if ('营业总收入' in element):\n",
    "        income_data_list = element\n",
    "        now_data = smartMultiply(income_data_list[3])\n",
    "        past_data = smartMultiply(income_data_list[11])\n",
    "        income_increase = (now_data - past_data) / past_data\n",
    "        print('现营业总收入', now_data)\n",
    "        print('一年前营业总收入', past_data)\n",
    "        print('营业总收入增长', income_increase)\n",
    "    elif('净利润' in element):\n",
    "        profit_data_list = element\n",
    "        now_data = smartMultiply(profit_data_list[3])\n",
    "        past_data = smartMultiply(profit_data_list[11])\n",
    "        profit_increase = (now_data - past_data) / past_data\n",
    "        print('现净利润', now_data)\n",
    "        print('一年前净利润', past_data)\n",
    "        print('净利润增长', income_increase)"
   ]
  },
  {
   "cell_type": "code",
   "execution_count": null,
   "metadata": {
    "scrolled": false
   },
   "outputs": [],
   "source": [
    "# 参考了[7], 利用selenium解析出来的page source抓取表格\n",
    "# 居然有urllib解析不出的表格！！我去买彩票算了！！\n",
    "\n",
    "browser = webdriver.Chrome() # Get local session of chrome\n",
    "url = search_area['电子信息']\n",
    "browser.get(url) #Load page\n",
    "browser.implicitly_wait(2) #智能等待xx秒\n",
    "time.sleep(5) #加载时间较长，等待加载完毕\n",
    "# 把selenium的webdriver调用page_source函数在传入BeautifulSoup中，就可以用BeautifulSoup解析网页了\n",
    "bs = BeautifulSoup(browser.page_source, \"lxml\")"
   ]
  },
  {
   "cell_type": "code",
   "execution_count": null,
   "metadata": {},
   "outputs": [],
   "source": [
    "code = table[0].find(class_ = ' listview-col-Code').string  # code\n",
    "print('代码', code)\n",
    "\n",
    "name = table[0].find(class_ = ' listview-col-Name').string # name\n",
    "print('名称', name)\n",
    "\n",
    "close = smartMultiply(table[0].find(class_ = ' listview-col-Close').string)\n",
    "print('最新价', close)\n",
    "\n",
    "percent_chg = smartMultiply(table[0].find(class_ = 'listview-col-ChangePercent sorting_1').string)\n",
    "print('涨跌幅', percent_chg)\n",
    "\n",
    "change = smartMultiply(table[0].find(class_ = ' listview-col-Change').string)\n",
    "print('涨跌额', change)\n",
    "\n",
    "volume = smartMultiply(table[0].find(class_ = ' listview-col-Volume').string)\n",
    "print('成交量', volume)\n",
    "\n",
    "turn_volume = smartMultiply(table[0].find(class_ = ' listview-col-Amount').string)\n",
    "print('成交额', turn_volume)\n",
    "\n",
    "amplitude = smartMultiply(table[0].find(class_ = ' listview-col-Amplitude').string)\n",
    "print('振幅', amplitude)\n",
    "\n",
    "high = smartMultiply(table[0].find(class_ = ' listview-col-High').string)\n",
    "print('最高', high)\n",
    "\n",
    "low = smartMultiply(table[0].find(class_ = ' listview-col-Low').string)\n",
    "print('最低', low)\n",
    "\n",
    "now_open = smartMultiply(table[0].find(class_ = ' listview-col-Open').string)\n",
    "print('今开', now_open)\n",
    "\n",
    "previous_close = smartMultiply(table[0].find(class_ = ' listview-col-PreviousClose').string)\n",
    "print('昨收', previous_close)\n",
    "\n",
    "volume_rate = smartMultiply(table[0].find(class_ = ' listview-col-VolumeRate').string)\n",
    "print('量比', volume_rate)\n",
    "\n",
    "turnover_rate = smartMultiply(table[0].find(class_ = ' listview-col-TurnoverRate').string)\n",
    "print('换手率', turnover_rate)\n",
    "\n",
    "pr_rate = smartMultiply(table[0].find(class_ = ' listview-col-PERation').string)\n",
    "print('市盈率', pr_rate)"
   ]
  },
  {
   "cell_type": "code",
   "execution_count": null,
   "metadata": {},
   "outputs": [],
   "source": [
    "def get_allele_feq(browser, snp):\n",
    "    browser.get(\n",
    "    'https://www.ncbi.nlm.nih.gov/variation/tools/1000genomes/?q=%s' %snp) #Load page\n",
    "    # browser.implicitly_wait(60) #智能等待xx秒\n",
    "    time.sleep(30) #加载时间较长，等待加载完毕\n",
    "    # browser.find_element_by_css_selector(\"div[title=\\\"Han Chinese in Bejing, China\\\"]\") #use selenium function to find elements\n",
    "\n",
    "    # 把selenium的webdriver调用page_source函数在传入BeautifulSoup中，就可以用BeautifulSoup解析网页了\n",
    "    bs = BeautifulSoup(browser.page_source, \"lxml\")\n",
    "    # bs.find_all(\"div\", title=\"Han Chinese in Bejing, China\")\n",
    "    try:\n",
    "        race = bs.find(string=\"CHB\")\n",
    "        race_data = race.find_parent(\"div\").find_parent(\n",
    "            \"div\").find_next_sibling(\"div\")\n",
    "        # print race_data\n",
    "        race_feq = race_data.find(\"span\", class_=\"gt-selected\").find_all(\"li\") # class_ 防止Python中类关键字重复，产生语法错误\n",
    "        base1_feq = race_feq[0].text  #获取标签的内容\n",
    "        base2_feq = race_feq[1].text\n",
    "        return snp, base1_feq, base2_feq  # T=0.1408 C=0.8592\n",
    "\n",
    "    except NoSuchElementException:\n",
    "        return \"%s:can't find element\" %snp "
   ]
  },
  {
   "cell_type": "code",
   "execution_count": null,
   "metadata": {},
   "outputs": [],
   "source": [
    "browser = webdriver.Chrome() # Get local session of chrome\n",
    "fh = open(\"./4diseases_snps_1kCHB_allele_feq.list2\", 'w')\n",
    "snps = open(\"./4diseases_snps.list.uniq2\",'r')\n",
    "for line in snps:\n",
    "    snp = line.strip()\n",
    "    response = get_allele_feq(browser, snp)\n",
    "    time.sleep(1)\n",
    "    fh.write(\"\\t\".join(response)) #unicode 编码的对象写到文件中后相当于print效果\n",
    "    fh.write(\"\\n\")\n",
    "    print \"\\t\".join(response)\n",
    "    time.sleep(1)  # sleep a few seconds\n",
    "fh.close()\n",
    "browser.quit()  # 退出并关闭窗口的每一个相关的驱动程序\n"
   ]
  },
  {
   "cell_type": "code",
   "execution_count": null,
   "metadata": {},
   "outputs": [],
   "source": [
    "#coding:utf-8\n",
    "# 用搜索框获取URL模块[3]（暂时不用）\n",
    "\n",
    "#这里设置用哪个，关于具体的使用可以百度，建议用phantomjs.exe读者可以做对比\n",
    "driver = webdriver.Chrome('/usr/local/bin/chromedriver')\n",
    "driver.get('http://www.eastmoney.com')\n",
    "\n",
    "# 找到输入框，并输入文字\n",
    "driver.find_element_by_id('code_suggest').send_keys('新能源')\n",
    "sleep(2)\n",
    "\n",
    "# 点击搜索按钮\n",
    "driver.find_element_by_id('search_view_btn3').click()\n",
    "\n",
    "#获取当前的URL的地址\n",
    "print(driver.current_url)\n",
    "\n",
    "#关闭浏览器\n",
    "driver.close()"
   ]
  },
  {
   "cell_type": "code",
   "execution_count": null,
   "metadata": {},
   "outputs": [],
   "source": [
    "# 导入需要使用到的模块 \n",
    "\n",
    "\n",
    "# 爬虫抓取网页函数 \n",
    "def getHtml(url):\n",
    "    html = urllib.request.urlopen(url).read()\n",
    "    html = html.decode('gbk')\n",
    "    return html\n",
    "\n",
    "\n",
    "# 抓取网页股票代码函数 \n",
    "def getStackCode(html):\n",
    "    s = r'<li><a target=\"_blank\" href=\"http://quote.eastmoney.com/\\S\\S(.*?).html\">'\n",
    "    pat = re.compile(s)\n",
    "    code = pat.findall(html)\n",
    "    return code\n",
    "\n",
    "Url = 'http://quote.eastmoney.com/stocklist.html'  # 东方财富网股票数据连接地址\n",
    "filepath = '../Datasets/Eastmoney/Stock_History/'  # 定义数据文件保存路径"
   ]
  },
  {
   "cell_type": "code",
   "execution_count": null,
   "metadata": {},
   "outputs": [],
   "source": [
    "# 实施抓取\n",
    "code = getStackCode(getHtml(Url)) \n",
    "# 获取所有股票代码（以6开头的，应该是沪市数据）集合\n",
    "CodeList = []\n",
    "for item in code:\n",
    "    if item[0] == '6':\n",
    "        CodeList.append(item)\n",
    "# 抓取数据并保存到本地csv文件 \n",
    "for code in CodeList:\n",
    "    print('正在获取股票%s数据'%code)\n",
    "    url = 'http://quotes.money.163.com/service/chddata.html?code=0'+code+\\\n",
    "        '&end=20161231&fields=TCLOSE;HIGH;LOW;TOPEN;LCLOSE;CHG;PCHG;TURNOVER;VOTURNOVER;VATURNOVER;TCAP;MCAP'\n",
    "    urllib.request.urlretrieve(url, filepath+code+'.csv')"
   ]
  },
  {
   "cell_type": "code",
   "execution_count": null,
   "metadata": {},
   "outputs": [],
   "source": [
    "news_data = tc.SFrame('../Datasets/Eastmoney/Stock_History/600000.csv', decode='utf-8')"
   ]
  },
  {
   "cell_type": "code",
   "execution_count": null,
   "metadata": {},
   "outputs": [],
   "source": []
  }
 ],
 "metadata": {
  "kernelspec": {
   "display_name": "Python 3",
   "language": "python",
   "name": "python3"
  },
  "language_info": {
   "codemirror_mode": {
    "name": "ipython",
    "version": 3
   },
   "file_extension": ".py",
   "mimetype": "text/x-python",
   "name": "python",
   "nbconvert_exporter": "python",
   "pygments_lexer": "ipython3",
   "version": "3.6.5"
  }
 },
 "nbformat": 4,
 "nbformat_minor": 2
}
