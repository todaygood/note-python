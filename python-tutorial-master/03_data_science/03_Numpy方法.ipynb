{
 "cells": [
  {
   "cell_type": "markdown",
   "id": "c01a71aa",
   "metadata": {},
   "source": [
    "| [03_data_science/03_Numpy方法.ipynb](https://github.com/shibing624/python-tutorial/blob/master/03_data_science/03_Numpy方法.ipynb)  | Numpy 方法  |[Open In Colab](https://colab.research.google.com/github/shibing624/python-tutorial/blob/master/03_data_science/03_Numpy方法.ipynb) |\n",
    "\n",
    "# Numpy方法\n",
    "\n",
    "Numpy的常用方法。\n"
   ]
  },
  {
   "cell_type": "code",
   "execution_count": 1,
   "id": "1e10defe",
   "metadata": {},
   "outputs": [
    {
     "data": {
      "text/plain": [
       "array([[0, 1, 2, 3],\n",
       "       [4, 5, 6, 7]])"
      ]
     },
     "execution_count": 1,
     "metadata": {},
     "output_type": "execute_result"
    }
   ],
   "source": [
    "import numpy as np\n",
    "\n",
    "a = np.array([[0, 1, 2, 3], [4, 5, 6, 7]])\n",
    "a"
   ]
  },
  {
   "cell_type": "code",
   "execution_count": 2,
   "id": "b5fef686",
   "metadata": {},
   "outputs": [
    {
     "name": "stdout",
     "output_type": "stream",
     "text": [
      "[0 1 2 3]\n",
      "[4 5 6 7]\n"
     ]
    }
   ],
   "source": [
    "for row in a:\n",
    "    print(row)"
   ]
  },
  {
   "cell_type": "markdown",
   "id": "69cd933c",
   "metadata": {},
   "source": [
    "所有元素的迭代器："
   ]
  },
  {
   "cell_type": "code",
   "execution_count": 3,
   "id": "0a469912",
   "metadata": {},
   "outputs": [
    {
     "name": "stdout",
     "output_type": "stream",
     "text": [
      "0\n",
      "1\n",
      "2\n",
      "3\n",
      "4\n",
      "5\n",
      "6\n",
      "7\n"
     ]
    }
   ],
   "source": [
    "for i in a.flat:\n",
    "    print(i)"
   ]
  },
  {
   "cell_type": "markdown",
   "id": "a15daca8",
   "metadata": {},
   "source": [
    "## 矩阵转置："
   ]
  },
  {
   "cell_type": "code",
   "execution_count": 4,
   "id": "bcbcf25d",
   "metadata": {},
   "outputs": [
    {
     "name": "stdout",
     "output_type": "stream",
     "text": [
      "[[0 1 2 3]\n",
      " [4 5 6 7]]\n",
      "[[0 4]\n",
      " [1 5]\n",
      " [2 6]\n",
      " [3 7]]\n",
      "[[0 1 2 3]\n",
      " [4 5 6 7]]\n",
      "(2, 4)\n"
     ]
    }
   ],
   "source": [
    "print(a)\n",
    "print(a.T)\n",
    "print(a)\n",
    "print(a.shape)  # 数组形状 (m,n,o,...)"
   ]
  },
  {
   "cell_type": "code",
   "execution_count": 5,
   "id": "f803c8be",
   "metadata": {},
   "outputs": [
    {
     "name": "stdout",
     "output_type": "stream",
     "text": [
      "8\n",
      "[[0 1]\n",
      " [2 3]\n",
      " [4 5]\n",
      " [6 7]]\n",
      "(4, 2)\n"
     ]
    }
   ],
   "source": [
    "print(a.size)  # 数组元素数\n",
    "a.resize((4, 2))\n",
    "print(a)\n",
    "print(a.shape)"
   ]
  },
  {
   "cell_type": "markdown",
   "id": "1311e0de",
   "metadata": {},
   "source": [
    "## squeeze\n",
    "\n",
    "把shape为1的维度去掉："
   ]
  },
  {
   "cell_type": "code",
   "execution_count": 6,
   "id": "e33958b3",
   "metadata": {},
   "outputs": [
    {
     "data": {
      "text/plain": [
       "array([[0, 1, 2, 3, 4, 5, 6, 7, 8, 9]])"
      ]
     },
     "execution_count": 6,
     "metadata": {},
     "output_type": "execute_result"
    }
   ],
   "source": [
    "a = np.arange(10).reshape(1,10)\n",
    "a"
   ]
  },
  {
   "cell_type": "code",
   "execution_count": 7,
   "id": "cd0b942c",
   "metadata": {},
   "outputs": [
    {
     "data": {
      "text/plain": [
       "(1, 10)"
      ]
     },
     "execution_count": 7,
     "metadata": {},
     "output_type": "execute_result"
    }
   ],
   "source": [
    "a.shape"
   ]
  },
  {
   "cell_type": "code",
   "execution_count": 8,
   "id": "2e2f9ad6",
   "metadata": {},
   "outputs": [
    {
     "data": {
      "text/plain": [
       "array([0, 1, 2, 3, 4, 5, 6, 7, 8, 9])"
      ]
     },
     "execution_count": 8,
     "metadata": {},
     "output_type": "execute_result"
    }
   ],
   "source": [
    "b = np.squeeze(a)\n",
    "b"
   ]
  },
  {
   "cell_type": "code",
   "execution_count": 9,
   "id": "914b5a13",
   "metadata": {},
   "outputs": [
    {
     "data": {
      "text/plain": [
       "(10,)"
      ]
     },
     "execution_count": 9,
     "metadata": {},
     "output_type": "execute_result"
    }
   ],
   "source": [
    "b.shape"
   ]
  },
  {
   "cell_type": "markdown",
   "id": "dc29356d",
   "metadata": {},
   "source": [
    "再举个多维的例子："
   ]
  },
  {
   "cell_type": "code",
   "execution_count": 10,
   "id": "e4cac692",
   "metadata": {},
   "outputs": [
    {
     "name": "stdout",
     "output_type": "stream",
     "text": [
      "[[[0 1 2 3 4]\n",
      "  [5 6 7 8 9]]]\n",
      "(1, 2, 5)\n"
     ]
    }
   ],
   "source": [
    "a = np.arange(10).reshape(1, 2, 5)\n",
    "print(a)\n",
    "\n",
    "print(a.shape)"
   ]
  },
  {
   "cell_type": "code",
   "execution_count": 11,
   "id": "b92af824",
   "metadata": {},
   "outputs": [
    {
     "data": {
      "text/plain": [
       "(2, 5)"
      ]
     },
     "execution_count": 11,
     "metadata": {},
     "output_type": "execute_result"
    }
   ],
   "source": [
    "b = np.squeeze(a)\n",
    "b.shape"
   ]
  },
  {
   "cell_type": "code",
   "execution_count": 12,
   "id": "9dca87c5",
   "metadata": {},
   "outputs": [
    {
     "data": {
      "text/plain": [
       "(1, 2, 5)"
      ]
     },
     "execution_count": 12,
     "metadata": {},
     "output_type": "execute_result"
    }
   ],
   "source": [
    "a.shape"
   ]
  },
  {
   "cell_type": "markdown",
   "id": "8d37681d",
   "metadata": {},
   "source": [
    "## 复制"
   ]
  },
  {
   "cell_type": "code",
   "execution_count": 13,
   "id": "dee86099",
   "metadata": {},
   "outputs": [
    {
     "data": {
      "text/plain": [
       "array([[-1,  1,  2,  3],\n",
       "       [ 4,  5,  6,  7]])"
      ]
     },
     "execution_count": 13,
     "metadata": {},
     "output_type": "execute_result"
    }
   ],
   "source": [
    "a = np.array([[0, 1, 2, 3], [4, 5, 6, 7]])\n",
    "b = a.copy()\n",
    "b[0][0] = -1\n",
    "\n",
    "b"
   ]
  },
  {
   "cell_type": "markdown",
   "id": "9ac0f221",
   "metadata": {},
   "source": [
    "填充："
   ]
  },
  {
   "cell_type": "code",
   "execution_count": 14,
   "id": "ab018170",
   "metadata": {},
   "outputs": [
    {
     "data": {
      "text/plain": [
       "array([[9, 9, 9, 9],\n",
       "       [9, 9, 9, 9]])"
      ]
     },
     "execution_count": 14,
     "metadata": {},
     "output_type": "execute_result"
    }
   ],
   "source": [
    "b.fill(9)\n",
    "b"
   ]
  },
  {
   "cell_type": "code",
   "execution_count": 15,
   "id": "c67a34a4",
   "metadata": {},
   "outputs": [
    {
     "data": {
      "text/plain": [
       "[[0, 1, 2, 3], [4, 5, 6, 7]]"
      ]
     },
     "execution_count": 15,
     "metadata": {},
     "output_type": "execute_result"
    }
   ],
   "source": [
    "# 转化为列表：\n",
    "a.tolist()"
   ]
  },
  {
   "cell_type": "markdown",
   "id": "12413015",
   "metadata": {},
   "source": [
    "## 复数"
   ]
  },
  {
   "cell_type": "code",
   "execution_count": 16,
   "id": "fb982d09",
   "metadata": {},
   "outputs": [
    {
     "name": "stdout",
     "output_type": "stream",
     "text": [
      "[1. 3. 5.]\n",
      "[2. 4. 6.]\n"
     ]
    }
   ],
   "source": [
    "# 实部：\n",
    "b = np.array([1 + 2j, 3 + 4j, 5 + 6j])\n",
    "c = b.real\n",
    "print(c)\n",
    "\n",
    "# 虚部：\n",
    "d = b.imag\n",
    "print(d)"
   ]
  },
  {
   "cell_type": "code",
   "execution_count": 17,
   "id": "1729c329",
   "metadata": {},
   "outputs": [
    {
     "name": "stdout",
     "output_type": "stream",
     "text": [
      "[1.-2.j 3.-4.j 5.-6.j]\n"
     ]
    },
    {
     "data": {
      "text/plain": [
       "True"
      ]
     },
     "execution_count": 17,
     "metadata": {},
     "output_type": "execute_result"
    }
   ],
   "source": [
    "# 共轭：\n",
    "print(b.conj())\n",
    "\n",
    "# 保存成文本：\n",
    "a.dump(\"file.txt\")\n",
    "\n",
    "\n",
    "import os\n",
    "os.path.exists('file.txt')"
   ]
  },
  {
   "cell_type": "code",
   "execution_count": 18,
   "id": "26327ee8",
   "metadata": {},
   "outputs": [
    {
     "data": {
      "text/plain": [
       "b'\\x80\\x02cnumpy.core.multiarray\\n_reconstruct\\nq\\x00cnumpy\\nndarray\\nq\\x01K\\x00\\x85q\\x02c_codecs\\nencode\\nq\\x03X\\x01\\x00\\x00\\x00bq\\x04X\\x06\\x00\\x00\\x00latin1q\\x05\\x86q\\x06Rq\\x07\\x87q\\x08Rq\\t(K\\x01K\\x02K\\x04\\x86q\\ncnumpy\\ndtype\\nq\\x0bX\\x02\\x00\\x00\\x00i8q\\x0c\\x89\\x88\\x87q\\rRq\\x0e(K\\x03X\\x01\\x00\\x00\\x00<q\\x0fNNNJ\\xff\\xff\\xff\\xffJ\\xff\\xff\\xff\\xffK\\x00tq\\x10b\\x89h\\x03X@\\x00\\x00\\x00\\x00\\x00\\x00\\x00\\x00\\x00\\x00\\x00\\x01\\x00\\x00\\x00\\x00\\x00\\x00\\x00\\x02\\x00\\x00\\x00\\x00\\x00\\x00\\x00\\x03\\x00\\x00\\x00\\x00\\x00\\x00\\x00\\x04\\x00\\x00\\x00\\x00\\x00\\x00\\x00\\x05\\x00\\x00\\x00\\x00\\x00\\x00\\x00\\x06\\x00\\x00\\x00\\x00\\x00\\x00\\x00\\x07\\x00\\x00\\x00\\x00\\x00\\x00\\x00q\\x11h\\x05\\x86q\\x12Rq\\x13tq\\x14b.'"
      ]
     },
     "execution_count": 18,
     "metadata": {},
     "output_type": "execute_result"
    }
   ],
   "source": [
    "with open('file.txt', 'rb') as f:\n",
    "    m = f.read()\n",
    "m"
   ]
  },
  {
   "cell_type": "code",
   "execution_count": 19,
   "id": "de7b70d7",
   "metadata": {},
   "outputs": [
    {
     "data": {
      "text/plain": [
       "b'\\x80\\x02cnumpy.core.multiarray\\n_reconstruct\\nq\\x00cnumpy\\nndarray\\nq\\x01K\\x00\\x85q\\x02c_codecs\\nencode\\nq\\x03X\\x01\\x00\\x00\\x00bq\\x04X\\x06\\x00\\x00\\x00latin1q\\x05\\x86q\\x06Rq\\x07\\x87q\\x08Rq\\t(K\\x01K\\x02K\\x04\\x86q\\ncnumpy\\ndtype\\nq\\x0bX\\x02\\x00\\x00\\x00i8q\\x0c\\x89\\x88\\x87q\\rRq\\x0e(K\\x03X\\x01\\x00\\x00\\x00<q\\x0fNNNJ\\xff\\xff\\xff\\xffJ\\xff\\xff\\xff\\xffK\\x00tq\\x10b\\x89h\\x03X@\\x00\\x00\\x00\\x00\\x00\\x00\\x00\\x00\\x00\\x00\\x00\\x01\\x00\\x00\\x00\\x00\\x00\\x00\\x00\\x02\\x00\\x00\\x00\\x00\\x00\\x00\\x00\\x03\\x00\\x00\\x00\\x00\\x00\\x00\\x00\\x04\\x00\\x00\\x00\\x00\\x00\\x00\\x00\\x05\\x00\\x00\\x00\\x00\\x00\\x00\\x00\\x06\\x00\\x00\\x00\\x00\\x00\\x00\\x00\\x07\\x00\\x00\\x00\\x00\\x00\\x00\\x00q\\x11h\\x05\\x86q\\x12Rq\\x13tq\\x14b.'"
      ]
     },
     "execution_count": 19,
     "metadata": {},
     "output_type": "execute_result"
    }
   ],
   "source": [
    "# 字符串：\n",
    "a.dumps()"
   ]
  },
  {
   "cell_type": "code",
   "execution_count": 20,
   "id": "b2e98be7",
   "metadata": {},
   "outputs": [
    {
     "data": {
      "text/plain": [
       "True"
      ]
     },
     "execution_count": 20,
     "metadata": {},
     "output_type": "execute_result"
    }
   ],
   "source": [
    "# 写入文件\n",
    "a.tofile('foo.csv', sep=',', format=\"%s\")\n",
    "os.path.exists('foo.csv')"
   ]
  },
  {
   "cell_type": "code",
   "execution_count": 21,
   "id": "402cdea7",
   "metadata": {},
   "outputs": [
    {
     "data": {
      "text/plain": [
       "'0,1,2,3,4,5,6,7'"
      ]
     },
     "execution_count": 21,
     "metadata": {},
     "output_type": "execute_result"
    }
   ],
   "source": [
    "with open('foo.csv') as f:\n",
    "    m = f.read()\n",
    "m"
   ]
  },
  {
   "cell_type": "markdown",
   "id": "29f0b4ec",
   "metadata": {},
   "source": [
    "## 排序\n",
    "非零元素的索引："
   ]
  },
  {
   "cell_type": "code",
   "execution_count": 22,
   "id": "d1403f3b",
   "metadata": {},
   "outputs": [
    {
     "data": {
      "text/plain": [
       "array([[0, 1, 2, 3],\n",
       "       [4, 5, 6, 7]])"
      ]
     },
     "execution_count": 22,
     "metadata": {},
     "output_type": "execute_result"
    }
   ],
   "source": [
    "b = a.nonzero()\n",
    "a"
   ]
  },
  {
   "cell_type": "code",
   "execution_count": 23,
   "id": "df696210",
   "metadata": {},
   "outputs": [
    {
     "data": {
      "text/plain": [
       "(array([0, 0, 0, 1, 1, 1, 1]), array([1, 2, 3, 0, 1, 2, 3]))"
      ]
     },
     "execution_count": 23,
     "metadata": {},
     "output_type": "execute_result"
    }
   ],
   "source": [
    "b"
   ]
  },
  {
   "cell_type": "code",
   "execution_count": 24,
   "id": "c182dcfd",
   "metadata": {},
   "outputs": [
    {
     "data": {
      "text/plain": [
       "array([1, 2, 3, 4, 7])"
      ]
     },
     "execution_count": 24,
     "metadata": {},
     "output_type": "execute_result"
    }
   ],
   "source": [
    "# 排序：\n",
    "b = np.array([3, 2, 7, 4, 1])\n",
    "b.sort()\n",
    "b"
   ]
  },
  {
   "cell_type": "code",
   "execution_count": 25,
   "id": "9b38c37b",
   "metadata": {},
   "outputs": [
    {
     "data": {
      "text/plain": [
       "array([2, 0, 1])"
      ]
     },
     "execution_count": 25,
     "metadata": {},
     "output_type": "execute_result"
    }
   ],
   "source": [
    "# 排序的索引位置：\n",
    "b = np.array([2, 3, 1])\n",
    "b.argsort(axis=-1)  # array([2, 0, 1])"
   ]
  },
  {
   "cell_type": "code",
   "execution_count": 26,
   "id": "4dd272bc",
   "metadata": {},
   "outputs": [
    {
     "name": "stdout",
     "output_type": "stream",
     "text": [
      "[0 1 3]\n"
     ]
    }
   ],
   "source": [
    "# 将 b 插入 a 中的索引，使得 a 保持有序：\n",
    "a = np.array([1, 3, 4, 6])\n",
    "b = np.array([0, 2, 5])\n",
    "print(a.searchsorted(b))"
   ]
  },
  {
   "cell_type": "markdown",
   "id": "5be293fb",
   "metadata": {},
   "source": [
    "## 元素的数学操作\n",
    "clip，限制在一定范围："
   ]
  },
  {
   "cell_type": "code",
   "execution_count": 27,
   "id": "f0cbfe2c",
   "metadata": {},
   "outputs": [
    {
     "data": {
      "text/plain": [
       "array([[2, 1, 2],\n",
       "       [2, 1, 2]])"
      ]
     },
     "execution_count": 27,
     "metadata": {},
     "output_type": "execute_result"
    }
   ],
   "source": [
    "a = np.array([[4, 1, 3], [2, 1, 5]])\n",
    "a.clip(0, 2)"
   ]
  },
  {
   "cell_type": "code",
   "execution_count": 28,
   "id": "7ae51c4e",
   "metadata": {},
   "outputs": [
    {
     "data": {
      "text/plain": [
       "array([[4, 1, 3],\n",
       "       [2, 1, 5]])"
      ]
     },
     "execution_count": 28,
     "metadata": {},
     "output_type": "execute_result"
    }
   ],
   "source": [
    "a"
   ]
  },
  {
   "cell_type": "code",
   "execution_count": 29,
   "id": "11ca1ff8",
   "metadata": {},
   "outputs": [
    {
     "data": {
      "text/plain": [
       "array([1.34, 2.45, 2.56])"
      ]
     },
     "execution_count": 29,
     "metadata": {},
     "output_type": "execute_result"
    }
   ],
   "source": [
    "# 近似：\n",
    "a = np.array([1.344, 2.449, 2.558])\n",
    "b = a.round(decimals=2)\n",
    "b  # [ 1.34  2.45  2.56]"
   ]
  },
  {
   "cell_type": "code",
   "execution_count": 30,
   "id": "c154cb09",
   "metadata": {},
   "outputs": [
    {
     "name": "stdout",
     "output_type": "stream",
     "text": [
      "True\n"
     ]
    }
   ],
   "source": [
    "# 是否全部非零：\n",
    "print(a.all())"
   ]
  },
  {
   "cell_type": "code",
   "execution_count": 31,
   "id": "79781937",
   "metadata": {},
   "outputs": [],
   "source": [
    "import os\n",
    "\n",
    "os.remove('foo.csv')\n",
    "os.remove('file.txt')"
   ]
  },
  {
   "cell_type": "markdown",
   "id": "5c127256",
   "metadata": {},
   "source": [
    "## 数组与字符串的转换\n",
    "\n",
    "tobytes 函数"
   ]
  },
  {
   "cell_type": "code",
   "execution_count": 32,
   "id": "7c3b5db1",
   "metadata": {},
   "outputs": [
    {
     "name": "stdout",
     "output_type": "stream",
     "text": [
      "[[1 2]\n",
      " [3 4]]\n",
      "b'\\x01\\x02\\x03\\x04'\n"
     ]
    }
   ],
   "source": [
    "a = np.array([[1, 2], [3, 4]], dtype=np.uint8)\n",
    "print(a)\n",
    "print(a.tobytes())"
   ]
  },
  {
   "cell_type": "markdown",
   "id": "9c80ffb3",
   "metadata": {},
   "source": [
    "frombuffer 函数\n",
    "\n",
    "可以使用 frombuffer 函数从字符串中读出数据，不过要指定类型："
   ]
  },
  {
   "cell_type": "code",
   "execution_count": 33,
   "id": "131b667d",
   "metadata": {},
   "outputs": [
    {
     "data": {
      "text/plain": [
       "array([1, 2, 3, 4], dtype=uint8)"
      ]
     },
     "execution_count": 33,
     "metadata": {},
     "output_type": "execute_result"
    }
   ],
   "source": [
    "s = a.tobytes()\n",
    "b = np.frombuffer(s, dtype=np.uint8)\n",
    "b"
   ]
  },
  {
   "cell_type": "markdown",
   "id": "ca036381",
   "metadata": {},
   "source": [
    "此时，返回的数组是一维的，需要重新设定维度："
   ]
  },
  {
   "cell_type": "code",
   "execution_count": 34,
   "id": "2b0fffc9",
   "metadata": {},
   "outputs": [
    {
     "data": {
      "text/plain": [
       "array([[1, 2],\n",
       "       [3, 4]], dtype=uint8)"
      ]
     },
     "execution_count": 34,
     "metadata": {},
     "output_type": "execute_result"
    }
   ],
   "source": [
    "b.shape = 2, 2\n",
    "b"
   ]
  },
  {
   "cell_type": "code",
   "execution_count": 35,
   "id": "c5d0cd47",
   "metadata": {},
   "outputs": [
    {
     "data": {
      "text/plain": [
       "array([[1, 2],\n",
       "       [3, 4]], dtype=uint8)"
      ]
     },
     "execution_count": 35,
     "metadata": {},
     "output_type": "execute_result"
    }
   ],
   "source": [
    "# 可以使用reshape：\n",
    "b = np.frombuffer(s, dtype=np.uint8).reshape(2, 2)\n",
    "b"
   ]
  },
  {
   "cell_type": "markdown",
   "id": "34d176ab",
   "metadata": {},
   "source": [
    "## 文本中读取数组\n",
    "\n",
    "对于读文本文件，推荐使用:\n",
    "- loadtxt\n",
    "- genfromtxt\n",
    "- savetxt\n",
    "\n",
    "\n",
    "对于二进制文本文件，推荐使用\n",
    "- save\n",
    "- load\n",
    "- savez\n",
    "\n",
    "### loadtxt 函数\n",
    "```\n",
    "loadtxt(fname, dtype=<type 'float'>,\n",
    "        comments='#', delimiter=None,\n",
    "        converters=None, skiprows=0,\n",
    "        usecols=None, unpack=False, ndmin=0)     \n",
    "```\n",
    "- loadtxt 有很多可选参数，其中 delimiter 就是刚才用到的分隔符参数。\n",
    "- skiprows 参数表示忽略开头的行数，可以用来读写含有标题的文本\n"
   ]
  },
  {
   "cell_type": "code",
   "execution_count": 36,
   "id": "cb1ff57d",
   "metadata": {},
   "outputs": [
    {
     "data": {
      "text/plain": [
       "array([[101,   0],\n",
       "       [101,   1],\n",
       "       [101,   2],\n",
       "       ...,\n",
       "       [101, 997],\n",
       "       [101, 998],\n",
       "       [101, 999]])"
      ]
     },
     "execution_count": 36,
     "metadata": {},
     "output_type": "execute_result"
    }
   ],
   "source": [
    "data_file = \"../data/numpy/data.txt\"\n",
    "c = np.loadtxt(data_file, dtype=int)\n",
    "c"
   ]
  },
  {
   "cell_type": "code",
   "execution_count": 37,
   "id": "b00a0050",
   "metadata": {},
   "outputs": [
    {
     "data": {
      "text/plain": [
       "(1000, 2)"
      ]
     },
     "execution_count": 37,
     "metadata": {},
     "output_type": "execute_result"
    }
   ],
   "source": [
    "c.shape"
   ]
  },
  {
   "cell_type": "markdown",
   "id": "0989080c",
   "metadata": {},
   "source": [
    "### genfromtxt\n",
    "genfromtxt 函数功能更为全面，\n",
    "能处理更多的情况，但相应的速度和效率会慢一些。"
   ]
  },
  {
   "cell_type": "code",
   "execution_count": 38,
   "id": "3b3622de",
   "metadata": {},
   "outputs": [
    {
     "name": "stdout",
     "output_type": "stream",
     "text": [
      "Help on function genfromtxt in module numpy:\n",
      "\n",
      "genfromtxt(fname, dtype=<class 'float'>, comments='#', delimiter=None, skip_header=0, skip_footer=0, converters=None, missing_values=None, filling_values=None, usecols=None, names=None, excludelist=None, deletechars=\" !#$%&'()*+,-./:;<=>?@[\\\\]^{|}~\", replace_space='_', autostrip=False, case_sensitive=True, defaultfmt='f%i', unpack=None, usemask=False, loose=True, invalid_raise=True, max_rows=None, encoding='bytes', *, like=None)\n",
      "    Load data from a text file, with missing values handled as specified.\n",
      "    \n",
      "    Each line past the first `skip_header` lines is split at the `delimiter`\n",
      "    character, and characters following the `comments` character are discarded.\n",
      "    \n",
      "    Parameters\n",
      "    ----------\n",
      "    fname : file, str, pathlib.Path, list of str, generator\n",
      "        File, filename, list, or generator to read.  If the filename\n",
      "        extension is `.gz` or `.bz2`, the file is first decompressed. Note\n",
      "        that generators must return byte strings. The strings\n",
      "        in a list or produced by a generator are treated as lines.\n",
      "    dtype : dtype, optional\n",
      "        Data type of the resulting array.\n",
      "        If None, the dtypes will be determined by the contents of each\n",
      "        column, individually.\n",
      "    comments : str, optional\n",
      "        The character used to indicate the start of a comment.\n",
      "        All the characters occurring on a line after a comment are discarded\n",
      "    delimiter : str, int, or sequence, optional\n",
      "        The string used to separate values.  By default, any consecutive\n",
      "        whitespaces act as delimiter.  An integer or sequence of integers\n",
      "        can also be provided as width(s) of each field.\n",
      "    skiprows : int, optional\n",
      "        `skiprows` was removed in numpy 1.10. Please use `skip_header` instead.\n",
      "    skip_header : int, optional\n",
      "        The number of lines to skip at the beginning of the file.\n",
      "    skip_footer : int, optional\n",
      "        The number of lines to skip at the end of the file.\n",
      "    converters : variable, optional\n",
      "        The set of functions that convert the data of a column to a value.\n",
      "        The converters can also be used to provide a default value\n",
      "        for missing data: ``converters = {3: lambda s: float(s or 0)}``.\n",
      "    missing : variable, optional\n",
      "        `missing` was removed in numpy 1.10. Please use `missing_values`\n",
      "        instead.\n",
      "    missing_values : variable, optional\n",
      "        The set of strings corresponding to missing data.\n",
      "    filling_values : variable, optional\n",
      "        The set of values to be used as default when the data are missing.\n",
      "    usecols : sequence, optional\n",
      "        Which columns to read, with 0 being the first.  For example,\n",
      "        ``usecols = (1, 4, 5)`` will extract the 2nd, 5th and 6th columns.\n",
      "    names : {None, True, str, sequence}, optional\n",
      "        If `names` is True, the field names are read from the first line after\n",
      "        the first `skip_header` lines.  This line can optionally be proceeded\n",
      "        by a comment delimiter. If `names` is a sequence or a single-string of\n",
      "        comma-separated names, the names will be used to define the field names\n",
      "        in a structured dtype. If `names` is None, the names of the dtype\n",
      "        fields will be used, if any.\n",
      "    excludelist : sequence, optional\n",
      "        A list of names to exclude. This list is appended to the default list\n",
      "        ['return','file','print']. Excluded names are appended an underscore:\n",
      "        for example, `file` would become `file_`.\n",
      "    deletechars : str, optional\n",
      "        A string combining invalid characters that must be deleted from the\n",
      "        names.\n",
      "    defaultfmt : str, optional\n",
      "        A format used to define default field names, such as \"f%i\" or \"f_%02i\".\n",
      "    autostrip : bool, optional\n",
      "        Whether to automatically strip white spaces from the variables.\n",
      "    replace_space : char, optional\n",
      "        Character(s) used in replacement of white spaces in the variables\n",
      "        names. By default, use a '_'.\n",
      "    case_sensitive : {True, False, 'upper', 'lower'}, optional\n",
      "        If True, field names are case sensitive.\n",
      "        If False or 'upper', field names are converted to upper case.\n",
      "        If 'lower', field names are converted to lower case.\n",
      "    unpack : bool, optional\n",
      "        If True, the returned array is transposed, so that arguments may be\n",
      "        unpacked using ``x, y, z = genfromtxt(...)``.  When used with a\n",
      "        structured data-type, arrays are returned for each field.\n",
      "        Default is False.\n",
      "    usemask : bool, optional\n",
      "        If True, return a masked array.\n",
      "        If False, return a regular array.\n",
      "    loose : bool, optional\n",
      "        If True, do not raise errors for invalid values.\n",
      "    invalid_raise : bool, optional\n",
      "        If True, an exception is raised if an inconsistency is detected in the\n",
      "        number of columns.\n",
      "        If False, a warning is emitted and the offending lines are skipped.\n",
      "    max_rows : int,  optional\n",
      "        The maximum number of rows to read. Must not be used with skip_footer\n",
      "        at the same time.  If given, the value must be at least 1. Default is\n",
      "        to read the entire file.\n",
      "    \n",
      "        .. versionadded:: 1.10.0\n",
      "    encoding : str, optional\n",
      "        Encoding used to decode the inputfile. Does not apply when `fname` is\n",
      "        a file object.  The special value 'bytes' enables backward compatibility\n",
      "        workarounds that ensure that you receive byte arrays when possible\n",
      "        and passes latin1 encoded strings to converters. Override this value to\n",
      "        receive unicode arrays and pass strings as input to converters.  If set\n",
      "        to None the system default is used. The default value is 'bytes'.\n",
      "    \n",
      "        .. versionadded:: 1.14.0\n",
      "    like : array_like\n",
      "        Reference object to allow the creation of arrays which are not\n",
      "        NumPy arrays. If an array-like passed in as ``like`` supports\n",
      "        the ``__array_function__`` protocol, the result will be defined\n",
      "        by it. In this case, it ensures the creation of an array object\n",
      "        compatible with that passed in via this argument.\n",
      "    \n",
      "        .. note::\n",
      "            The ``like`` keyword is an experimental feature pending on\n",
      "            acceptance of :ref:`NEP 35 <NEP35>`.\n",
      "    \n",
      "        .. versionadded:: 1.20.0\n",
      "    \n",
      "    Returns\n",
      "    -------\n",
      "    out : ndarray\n",
      "        Data read from the text file. If `usemask` is True, this is a\n",
      "        masked array.\n",
      "    \n",
      "    See Also\n",
      "    --------\n",
      "    numpy.loadtxt : equivalent function when no data is missing.\n",
      "    \n",
      "    Notes\n",
      "    -----\n",
      "    * When spaces are used as delimiters, or when no delimiter has been given\n",
      "      as input, there should not be any missing data between two fields.\n",
      "    * When the variables are named (either by a flexible dtype or with `names`),\n",
      "      there must not be any header in the file (else a ValueError\n",
      "      exception is raised).\n",
      "    * Individual values are not stripped of spaces by default.\n",
      "      When using a custom converter, make sure the function does remove spaces.\n",
      "    \n",
      "    References\n",
      "    ----------\n",
      "    .. [1] NumPy User Guide, section `I/O with NumPy\n",
      "           <https://docs.scipy.org/doc/numpy/user/basics.io.genfromtxt.html>`_.\n",
      "    \n",
      "    Examples\n",
      "    --------\n",
      "    >>> from io import StringIO\n",
      "    >>> import numpy as np\n",
      "    \n",
      "    Comma delimited file with mixed dtype\n",
      "    \n",
      "    >>> s = StringIO(u\"1,1.3,abcde\")\n",
      "    >>> data = np.genfromtxt(s, dtype=[('myint','i8'),('myfloat','f8'),\n",
      "    ... ('mystring','S5')], delimiter=\",\")\n",
      "    >>> data\n",
      "    array((1, 1.3, b'abcde'),\n",
      "          dtype=[('myint', '<i8'), ('myfloat', '<f8'), ('mystring', 'S5')])\n",
      "    \n",
      "    Using dtype = None\n",
      "    \n",
      "    >>> _ = s.seek(0) # needed for StringIO example only\n",
      "    >>> data = np.genfromtxt(s, dtype=None,\n",
      "    ... names = ['myint','myfloat','mystring'], delimiter=\",\")\n",
      "    >>> data\n",
      "    array((1, 1.3, b'abcde'),\n",
      "          dtype=[('myint', '<i8'), ('myfloat', '<f8'), ('mystring', 'S5')])\n",
      "    \n",
      "    Specifying dtype and names\n",
      "    \n",
      "    >>> _ = s.seek(0)\n",
      "    >>> data = np.genfromtxt(s, dtype=\"i8,f8,S5\",\n",
      "    ... names=['myint','myfloat','mystring'], delimiter=\",\")\n",
      "    >>> data\n",
      "    array((1, 1.3, b'abcde'),\n",
      "          dtype=[('myint', '<i8'), ('myfloat', '<f8'), ('mystring', 'S5')])\n",
      "    \n",
      "    An example with fixed-width columns\n",
      "    \n",
      "    >>> s = StringIO(u\"11.3abcde\")\n",
      "    >>> data = np.genfromtxt(s, dtype=None, names=['intvar','fltvar','strvar'],\n",
      "    ...     delimiter=[1,3,5])\n",
      "    >>> data\n",
      "    array((1, 1.3, b'abcde'),\n",
      "          dtype=[('intvar', '<i8'), ('fltvar', '<f8'), ('strvar', 'S5')])\n",
      "    \n",
      "    An example to show comments\n",
      "    \n",
      "    >>> f = StringIO('''\n",
      "    ... text,# of chars\n",
      "    ... hello world,11\n",
      "    ... numpy,5''')\n",
      "    >>> np.genfromtxt(f, dtype='S12,S12', delimiter=',')\n",
      "    array([(b'text', b''), (b'hello world', b'11'), (b'numpy', b'5')],\n",
      "      dtype=[('f0', 'S12'), ('f1', 'S12')])\n",
      "\n"
     ]
    }
   ],
   "source": [
    "help(np.genfromtxt)"
   ]
  },
  {
   "cell_type": "code",
   "execution_count": 39,
   "id": "7c29efa6",
   "metadata": {},
   "outputs": [
    {
     "data": {
      "text/plain": [
       "array([[101.,   0.],\n",
       "       [101.,   1.],\n",
       "       [101.,   2.],\n",
       "       ...,\n",
       "       [101., 997.],\n",
       "       [101., 998.],\n",
       "       [101., 999.]])"
      ]
     },
     "execution_count": 39,
     "metadata": {},
     "output_type": "execute_result"
    }
   ],
   "source": [
    "g = np.genfromtxt(data_file)\n",
    "g"
   ]
  },
  {
   "cell_type": "markdown",
   "id": "ca2035fd",
   "metadata": {},
   "source": [
    "当然，还有很笨的写法：\n",
    "\n",
    "首先将数据转化成一个列表组成的列表，再将这个列表转换为数组："
   ]
  },
  {
   "cell_type": "code",
   "execution_count": 40,
   "id": "30fa647d",
   "metadata": {},
   "outputs": [
    {
     "data": {
      "text/plain": [
       "array([[101.,   0.],\n",
       "       [101.,   1.],\n",
       "       [101.,   2.],\n",
       "       ...,\n",
       "       [101., 997.],\n",
       "       [101., 998.],\n",
       "       [101., 999.]])"
      ]
     },
     "execution_count": 40,
     "metadata": {},
     "output_type": "execute_result"
    }
   ],
   "source": [
    "data = []\n",
    "\n",
    "with open(data_file) as f:\n",
    "    # 每次读一行\n",
    "    for line in f:\n",
    "        fileds = line.split()\n",
    "        row_data = [float(x) for x in fileds]\n",
    "        data.append(row_data)\n",
    "\n",
    "data = np.array(data)\n",
    "data"
   ]
  },
  {
   "cell_type": "code",
   "execution_count": 41,
   "id": "9c4b916d",
   "metadata": {},
   "outputs": [
    {
     "data": {
      "text/plain": [
       "array([[   1,    1, 2000,   13],\n",
       "       [   4,    1, 2000,   55]])"
      ]
     },
     "execution_count": 41,
     "metadata": {},
     "output_type": "execute_result"
    }
   ],
   "source": [
    "# loadtxt 的更多特性\n",
    "sp_file = '../data/numpy/special_data.txt'\n",
    "data = np.loadtxt(sp_file,\n",
    "                  dtype=int,\n",
    "                  comments='%',  # 百分号为注释符\n",
    "                  delimiter=',',  # 逗号分割\n",
    "                  skiprows=1,  # 忽略第一行\n",
    "                  usecols=(0, 1, 2, 4))  # 指定使用哪几列数据\n",
    "data"
   ]
  },
  {
   "cell_type": "markdown",
   "id": "51da3bf7",
   "metadata": {},
   "source": [
    "### loadtxt 自定义转换方法\n",
    "\n",
    "loadtxt返回的值为字节字符串bytes, 对字符串解码用函数decode(‘asii’)，变成str格式："
   ]
  },
  {
   "cell_type": "code",
   "execution_count": 42,
   "id": "409b45b7",
   "metadata": {},
   "outputs": [
    {
     "data": {
      "text/plain": [
       "array([[datetime.datetime(2020, 1, 1, 0, 0), 2.3, 3.2],\n",
       "       [datetime.datetime(2021, 1, 1, 0, 0), 6.1, 3.1]], dtype=object)"
      ]
     },
     "execution_count": 42,
     "metadata": {},
     "output_type": "execute_result"
    }
   ],
   "source": [
    "import datetime\n",
    "\n",
    "\n",
    "def date_converter(s):\n",
    "    return datetime.datetime.strptime(s.decode('ascii'), \"%Y-%m-%d\")\n",
    "\n",
    "date_file = '../data/numpy/datetime_data.txt'\n",
    "data = np.loadtxt(date_file,\n",
    "                  dtype=object,  # 数据类型为对象\n",
    "                  converters={0: date_converter,  # 第一列使用自定义转换方法\n",
    "                              1: float,  # 第二第三列使用浮点数转换\n",
    "                              2: float})\n",
    "\n",
    "data"
   ]
  },
  {
   "cell_type": "markdown",
   "id": "db9c3652",
   "metadata": {},
   "source": [
    "### 将数组写入文件\n",
    "\n",
    "savetxt 可以将数组写入文件，默认使用科学计数法的形式保存："
   ]
  },
  {
   "cell_type": "code",
   "execution_count": 43,
   "id": "bb2d0d45",
   "metadata": {},
   "outputs": [
    {
     "name": "stdout",
     "output_type": "stream",
     "text": [
      "(2, 3)\n"
     ]
    }
   ],
   "source": [
    "a = np.array([[1, 2, 3], [5, 6, 7]])\n",
    "np.savetxt('out.txt', a)\n",
    "\n",
    "# 可以用类似printf 的方式指定输出的格式：\n",
    "a = np.array([[1, 2, 3], [5, 6, 7]])\n",
    "print(a.shape)\n",
    "\n",
    "np.savetxt('out_fmt.txt', a, fmt=['%d'] * a.shape[1], newline='\\n')"
   ]
  },
  {
   "cell_type": "code",
   "execution_count": 44,
   "id": "3f71956f",
   "metadata": {},
   "outputs": [
    {
     "name": "stdout",
     "output_type": "stream",
     "text": [
      "1 2 3\n",
      "\n",
      "5 6 7\n",
      "\n"
     ]
    }
   ],
   "source": [
    "with open('out_fmt.txt') as f:\n",
    "    for line in f:\n",
    "        print(line)"
   ]
  },
  {
   "cell_type": "code",
   "execution_count": 45,
   "id": "62647d83",
   "metadata": {},
   "outputs": [
    {
     "name": "stdout",
     "output_type": "stream",
     "text": [
      "[['1' 'a']\n",
      " ['2' 'b']\n",
      " ['3' 'c']\n",
      " ['4' 'd']\n",
      " ['5' 'e']]\n"
     ]
    }
   ],
   "source": [
    "m = zip([1, 2, 3, 4, 5], ['a', 'b', 'c', 'd', 'e'])\n",
    "m = list(m)\n",
    "\n",
    "z = np.array(m)\n",
    "print(z)\n",
    "\n",
    "np.savetxt('out_str_fmt.txt', z, fmt=['%s'] * z.shape[1])"
   ]
  },
  {
   "cell_type": "code",
   "execution_count": 46,
   "id": "7d4e14bc",
   "metadata": {},
   "outputs": [],
   "source": [
    "import os\n",
    "os.remove('out.txt')\n",
    "os.remove('out_fmt.txt')\n",
    "os.remove('out_str_fmt.txt')"
   ]
  },
  {
   "cell_type": "markdown",
   "id": "4b05f8b0",
   "metadata": {},
   "source": [
    "### Numpy 二进制格式\n",
    "保存的方法：\n",
    "\n",
    "- save(file, arr) 保存单个数组，.npy 格式\n",
    "- savez(file, *args, **kwds) 保存多个数组，无压缩的 .npz 格式\n",
    "- savez_compressed(file, *args, **kwds) 保存多个数组，有压缩的 .npz 格式"
   ]
  },
  {
   "cell_type": "code",
   "execution_count": 47,
   "id": "9e3dc46a",
   "metadata": {},
   "outputs": [],
   "source": [
    "a = np.array([[1, 2], [3, 4]])\n",
    "np.save('out.npy', a)"
   ]
  },
  {
   "cell_type": "code",
   "execution_count": 48,
   "id": "abd41647",
   "metadata": {},
   "outputs": [],
   "source": [
    "# 二进制与文本大小比较\n",
    "a = np.arange(10000.)\n",
    "np.savetxt('a.txt', a)"
   ]
  },
  {
   "cell_type": "code",
   "execution_count": 49,
   "id": "461e4be8",
   "metadata": {},
   "outputs": [
    {
     "name": "stdout",
     "output_type": "stream",
     "text": [
      "250000\n",
      "80128\n"
     ]
    }
   ],
   "source": [
    "# 查看大小：\n",
    "import os\n",
    "\n",
    "print(os.stat('a.txt').st_size)\n",
    "\n",
    "# 保存为二进制\n",
    "np.save('a.npy', a)\n",
    "print(os.stat('a.npy').st_size)"
   ]
  },
  {
   "cell_type": "markdown",
   "id": "9d869cb1",
   "metadata": {},
   "source": [
    "二进制文件大约是文本文件的三分之一。"
   ]
  },
  {
   "cell_type": "code",
   "execution_count": 71,
   "id": "eebf8862",
   "metadata": {},
   "outputs": [
    {
     "name": "stdout",
     "output_type": "stream",
     "text": [
      "[[1 2]\n",
      " [3 4]]\n",
      "[990 991 992 993 994 995 996 997 998 999]\n",
      "(1000,)\n"
     ]
    }
   ],
   "source": [
    "# 保存多个数组\n",
    "a = np.array([[1, 2], [3, 4]])\n",
    "b = np.arange(1000)\n",
    "print(a)\n",
    "print(b)"
   ]
  },
  {
   "cell_type": "code",
   "execution_count": 51,
   "id": "4b8777ca",
   "metadata": {},
   "outputs": [],
   "source": [
    "np.savez('ab.npz', a=a, b=b)"
   ]
  },
  {
   "cell_type": "code",
   "execution_count": 52,
   "id": "eb407142",
   "metadata": {},
   "outputs": [
    {
     "name": "stdout",
     "output_type": "stream",
     "text": [
      "8522\n",
      "KeysView(<numpy.lib.npyio.NpzFile object at 0x7fa5b9fc44c0>)\n",
      "['a', 'b']\n",
      "(2, 2)\n",
      "(1000,)\n"
     ]
    }
   ],
   "source": [
    "# 加载数据\n",
    "ab = np.load('ab.npz')\n",
    "print(os.stat('ab.npz').st_size)  # file size\n",
    "print(ab.keys())\n",
    "print(list(ab.keys()))\n",
    "\n",
    "print(ab['a'].shape)\n",
    "print(ab['b'].shape)"
   ]
  },
  {
   "cell_type": "code",
   "execution_count": 53,
   "id": "17f2feb3",
   "metadata": {},
   "outputs": [
    {
     "name": "stdout",
     "output_type": "stream",
     "text": [
      "1951\n"
     ]
    }
   ],
   "source": [
    "np.savez_compressed('ab_compressed.npz', a=a, b=b)\n",
    "print(os.stat('ab_compressed.npz').st_size)  # file size"
   ]
  },
  {
   "cell_type": "code",
   "execution_count": 54,
   "id": "25fed167",
   "metadata": {},
   "outputs": [],
   "source": [
    "os.remove('out.npy')\n",
    "os.remove('a.txt')\n",
    "os.remove('a.npy')\n",
    "os.remove('ab.npz')\n",
    "os.remove('ab_compressed.npz')"
   ]
  },
  {
   "cell_type": "markdown",
   "id": "aff76d86",
   "metadata": {},
   "source": [
    "## 生成数组的函数\n",
    "\n",
    "\n",
    "### arange 生成数组，[start,stop)\n",
    "\n",
    "arange(start, stop=None, step=1, dtype=None)"
   ]
  },
  {
   "cell_type": "code",
   "execution_count": 55,
   "id": "7144e105",
   "metadata": {},
   "outputs": [
    {
     "data": {
      "text/plain": [
       "array([0, 1, 2, 3, 4])"
      ]
     },
     "execution_count": 55,
     "metadata": {},
     "output_type": "execute_result"
    }
   ],
   "source": [
    "np.arange(5)  # [0 1 2 3 4]"
   ]
  },
  {
   "cell_type": "code",
   "execution_count": 56,
   "id": "fc501e3a",
   "metadata": {},
   "outputs": [
    {
     "data": {
      "text/plain": [
       "array([0.        , 0.78539816, 1.57079633, 2.35619449, 3.14159265,\n",
       "       3.92699082, 4.71238898, 5.49778714])"
      ]
     },
     "execution_count": 56,
     "metadata": {},
     "output_type": "execute_result"
    }
   ],
   "source": [
    "a = np.arange(0, 2 * np.pi, np.pi / 4)\n",
    "a"
   ]
  },
  {
   "cell_type": "markdown",
   "id": "4755d64e",
   "metadata": {},
   "source": [
    "### linspace\n",
    "linspace(start,stop,N)\n",
    "\n",
    "产生N个等距分布在[start,stop]间的元素组成的数组，包括start,stop"
   ]
  },
  {
   "cell_type": "code",
   "execution_count": 57,
   "id": "3c8f8d29",
   "metadata": {},
   "outputs": [
    {
     "data": {
      "text/plain": [
       "array([0.  , 0.25, 0.5 , 0.75, 1.  ])"
      ]
     },
     "execution_count": 57,
     "metadata": {},
     "output_type": "execute_result"
    }
   ],
   "source": [
    "np.linspace(0, 1, 5)  # [ 0.    0.25  0.5   0.75  1.  ]"
   ]
  },
  {
   "cell_type": "markdown",
   "id": "cb50b292",
   "metadata": {},
   "source": [
    "### logspace\n",
    "logspace(start, stop, N)\n",
    "\n",
    "产生 N 个对数等距分布的数组，默认以10为底："
   ]
  },
  {
   "cell_type": "code",
   "execution_count": 58,
   "id": "8584f847",
   "metadata": {},
   "outputs": [
    {
     "data": {
      "text/plain": [
       "array([ 1.        ,  1.77827941,  3.16227766,  5.62341325, 10.        ])"
      ]
     },
     "execution_count": 58,
     "metadata": {},
     "output_type": "execute_result"
    }
   ],
   "source": [
    "np.logspace(0, 1, 5)"
   ]
  },
  {
   "cell_type": "markdown",
   "id": "93825447",
   "metadata": {},
   "source": [
    "产生的值为$\\left[10^0, 10^{0.25},10^{0.5},10^{0.75},10^1\\right]$。"
   ]
  },
  {
   "cell_type": "markdown",
   "id": "a806f1bf",
   "metadata": {},
   "source": [
    "### meshgrid\n",
    "\n",
    "二维平面中生成一个网格"
   ]
  },
  {
   "cell_type": "code",
   "execution_count": 59,
   "id": "0796e90e",
   "metadata": {},
   "outputs": [
    {
     "name": "stdout",
     "output_type": "stream",
     "text": [
      "[-1.  -0.5  0.   0.5  1. ]\n",
      "[[-1.  -0.5  0.   0.5  1. ]\n",
      " [-1.  -0.5  0.   0.5  1. ]\n",
      " [-1.  -0.5  0.   0.5  1. ]\n",
      " [-1.  -0.5  0.   0.5  1. ]\n",
      " [-1.  -0.5  0.   0.5  1. ]]\n"
     ]
    }
   ],
   "source": [
    "x_ticks = np.linspace(-1, 1, 5)\n",
    "y_ticks = np.linspace(-1, 1, 5)\n",
    "x, y = np.meshgrid(x_ticks, y_ticks)\n",
    "print(x_ticks)\n",
    "print(x)"
   ]
  },
  {
   "cell_type": "markdown",
   "id": "e542a772",
   "metadata": {},
   "source": [
    "### 图例"
   ]
  },
  {
   "cell_type": "code",
   "execution_count": 60,
   "id": "87a85ffc",
   "metadata": {},
   "outputs": [
    {
     "name": "stdout",
     "output_type": "stream",
     "text": [
      "[[-10.   -9.6  -9.2  -8.8  -8.4  -8.   -7.6  -7.2  -6.8  -6.4  -6.   -5.6\n",
      "   -5.2  -4.8  -4.4  -4.   -3.6  -3.2  -2.8  -2.4  -2.   -1.6  -1.2  -0.8\n",
      "   -0.4   0.    0.4   0.8   1.2   1.6   2.    2.4   2.8   3.2   3.6   4.\n",
      "    4.4   4.8   5.2   5.6   6.    6.4   6.8   7.2   7.6   8.    8.4   8.8\n",
      "    9.2   9.6  10. ]]\n"
     ]
    }
   ],
   "source": [
    "import matplotlib.pyplot as plt\n",
    "from matplotlib import cm\n",
    "\n",
    "\n",
    "def f(x, y):\n",
    "    # sinc 函数\n",
    "    r = np.sqrt(x ** 2 + y ** 2)\n",
    "    result = np.sin(r) / r\n",
    "    result[r == 0] = 1.0\n",
    "    return result\n",
    "\n",
    "\n",
    "x_ticks = np.linspace(-10, 10, 51)\n",
    "y_ticks = np.linspace(-10, 10, 51)\n",
    "\n",
    "x, y = np.meshgrid(x_ticks, y_ticks, sparse=True)\n",
    "print(x)  # x, y 中有很多冗余的元素，这里提供了一个 sparse 的选项去冗余"
   ]
  },
  {
   "cell_type": "code",
   "execution_count": 61,
   "id": "234cd4dc",
   "metadata": {},
   "outputs": [
    {
     "name": "stderr",
     "output_type": "stream",
     "text": [
      "<ipython-input-60-3339129a474e>:8: RuntimeWarning: invalid value encountered in true_divide\n",
      "  result = np.sin(r) / r\n"
     ]
    }
   ],
   "source": [
    "z = f(x, y)"
   ]
  },
  {
   "cell_type": "code",
   "execution_count": 62,
   "id": "51bd8388",
   "metadata": {},
   "outputs": [
    {
     "data": {
      "image/png": "[encoded data removed]",
      "text/plain": [
       "<Figure size 432x288 with 1 Axes>"
      ]
     },
     "metadata": {
      "needs_background": "light"
     },
     "output_type": "display_data"
    }
   ],
   "source": [
    "fig = plt.figure()\n",
    "ax = fig.add_subplot(111, projection='3d')\n",
    "ax.plot_surface(x, y, z,\n",
    "                rstride=1, cstride=1,\n",
    "                cmap=cm.YlGnBu_r)\n",
    "ax.set_xlabel('x')\n",
    "ax.set_ylabel('y')\n",
    "ax.set_zlabel('z')\n",
    "plt.show()"
   ]
  },
  {
   "cell_type": "markdown",
   "id": "9f761bd8",
   "metadata": {},
   "source": [
    "## 内存映射\n",
    "\n",
    "Numpy 有对内存映射的支持。\n",
    "\n",
    "内存映射也是一种处理文件的方法，主要的函数有：\n",
    "- memmap\n",
    "- frombuffer\n",
    "- ndarray constructor\n",
    "\n",
    "使用内存映射文件处理存储于磁盘上的文件时，将不必再对文件执行I/O操作，\n",
    "使得内存映射文件在处理大数据量的文件时能起到相当重要的作用。\n",
    "```python\n",
    "memmap(filename,\n",
    "       dtype=uint8,\n",
    "       mode='r+'\n",
    "       offset=0\n",
    "       shape=None\n",
    "       order=0)\n",
    "```\n",
    "mode 表示文件被打开的类型：\n",
    "- r 只读\n",
    "- c 复制+写，但是不改变源文件\n",
    "- r+ 读写，使用 flush 方法会将更改的内容写入文件\n",
    "- w+ 写，如果存在则将数据覆盖\n"
   ]
  },
  {
   "cell_type": "markdown",
   "id": "4c8f61f3",
   "metadata": {},
   "source": [
    "## 数组相加：add\n"
   ]
  },
  {
   "cell_type": "code",
   "execution_count": 63,
   "id": "61755e27",
   "metadata": {},
   "outputs": [
    {
     "name": "stdout",
     "output_type": "stream",
     "text": [
      "[[1 2]\n",
      " [3 4]] [0 1]\n"
     ]
    }
   ],
   "source": [
    "import numpy as np\n",
    "\n",
    "a = np.array([[1, 2], [3, 4]])\n",
    "b = np.arange(2)\n",
    "print(a, b)"
   ]
  },
  {
   "cell_type": "code",
   "execution_count": 64,
   "id": "6d076b19",
   "metadata": {},
   "outputs": [
    {
     "name": "stdout",
     "output_type": "stream",
     "text": [
      "[array([1, 2]), array([3, 4]), 0, 1]\n"
     ]
    }
   ],
   "source": [
    "a_list = list(a)\n",
    "b_list = list(b)\n",
    "d = a_list + b_list\n",
    "print(d)"
   ]
  },
  {
   "cell_type": "markdown",
   "id": "2b769fc7",
   "metadata": {},
   "source": [
    "extend："
   ]
  },
  {
   "cell_type": "code",
   "execution_count": 65,
   "id": "3cd2ceb1",
   "metadata": {},
   "outputs": [
    {
     "name": "stdout",
     "output_type": "stream",
     "text": [
      "None\n",
      "[array([1, 2]), array([3, 4]), 0, 1]\n",
      "[array([1, 2]) array([3, 4]) 0 1]\n"
     ]
    }
   ],
   "source": [
    "c = a_list.extend(b_list)\n",
    "print(c)\n",
    "\n",
    "print(a_list)\n",
    "\n",
    "print(np.array(a_list, dtype=object))"
   ]
  },
  {
   "cell_type": "markdown",
   "id": "c1297263",
   "metadata": {},
   "source": [
    "append："
   ]
  },
  {
   "cell_type": "code",
   "execution_count": 66,
   "id": "83eb9835",
   "metadata": {},
   "outputs": [
    {
     "data": {
      "text/plain": [
       "array([1, 2, 3, 4, 0, 1])"
      ]
     },
     "execution_count": 66,
     "metadata": {},
     "output_type": "execute_result"
    }
   ],
   "source": [
    "np.append(a, b)"
   ]
  },
  {
   "cell_type": "code",
   "execution_count": 67,
   "id": "965cc34b",
   "metadata": {},
   "outputs": [
    {
     "data": {
      "text/plain": [
       "[[0, 1]]"
      ]
     },
     "execution_count": 67,
     "metadata": {},
     "output_type": "execute_result"
    }
   ],
   "source": [
    "k = []\n",
    "k.append(b_list)\n",
    "k"
   ]
  },
  {
   "cell_type": "code",
   "execution_count": 68,
   "id": "23a754db",
   "metadata": {},
   "outputs": [
    {
     "data": {
      "text/plain": [
       "[[0, 1], 1, 2]"
      ]
     },
     "execution_count": 68,
     "metadata": {},
     "output_type": "execute_result"
    }
   ],
   "source": [
    "k_list = [1, 2]\n",
    "k.extend(k_list)\n",
    "k"
   ]
  },
  {
   "cell_type": "markdown",
   "id": "63138192",
   "metadata": {},
   "source": [
    "本节完。"
   ]
  }
 ],
 "metadata": {
  "kernelspec": {
   "display_name": "Python 3",
   "language": "python",
   "name": "python3"
  },
  "language_info": {
   "codemirror_mode": {
    "name": "ipython",
    "version": 3
   },
   "file_extension": ".py",
   "mimetype": "text/x-python",
   "name": "python",
   "nbconvert_exporter": "python",
   "pygments_lexer": "ipython3",
   "version": "3.8.8"
  }
 },
 "nbformat": 4,
 "nbformat_minor": 5
}